{
 "cells": [
  {
   "cell_type": "markdown",
   "id": "1b68dee5-76ca-44bd-8de6-45c5a314d982",
   "metadata": {},
   "source": [
    "![lop](../../images/logo_diive1_128px.png)"
   ]
  },
  {
   "cell_type": "markdown",
   "id": "80476531-3a45-420c-8ece-d8fe73ab8788",
   "metadata": {},
   "source": [
    "<span style='font-size:40px; display:block;'>\n",
    "<b>\n",
    "    Flux Processing Chain\n",
    "</b>\n",
    "</br>\n",
    "  \n",
    "</span>\n",
    "<p>Post-processing of EddyPro <i>_fluxnet_</i> output files</p>"
   ]
  },
  {
   "cell_type": "markdown",
   "id": "48815613-0181-48f3-a4d7-9620a9f88b15",
   "metadata": {},
   "source": [
    "---\n",
    "**Notebook version**: `9.0` (26 Nov 2024)  \n",
    "**Author**: Lukas Hörtnagl (holukas@ethz.ch)  "
   ]
  },
  {
   "cell_type": "markdown",
   "id": "16a83491-39e1-4d9d-a0ba-e99ca4c578c4",
   "metadata": {},
   "source": [
    "</br>"
   ]
  },
  {
   "cell_type": "markdown",
   "id": "bee66dd8-cb17-49b6-8f5b-7c59063e718a",
   "metadata": {},
   "source": [
    "</br>"
   ]
  },
  {
   "cell_type": "markdown",
   "id": "72e84a3b-edc7-4b41-8f04-c4c1e229164b",
   "metadata": {},
   "source": [
    "---"
   ]
  },
  {
   "cell_type": "markdown",
   "id": "10364782-eb90-4f6f-b419-d4fd5f2bccd1",
   "metadata": {},
   "source": [
    "# **BACKGROUND**"
   ]
  },
  {
   "cell_type": "markdown",
   "id": "73f2d489-d27c-4356-ae1f-c085fa7c47a8",
   "metadata": {},
   "source": [
    "---"
   ]
  },
  {
   "cell_type": "markdown",
   "id": "f4616152-4f22-4f0b-9d31-f590782c0ddb",
   "metadata": {
    "tags": []
   },
   "source": [
    "- This notebook demonstrates part of the flux post-processing used for fluxes from Swiss FluxNet research stations\n",
    "- For a description of the different flux levels, see [Flux Processing Chain](https://www.swissfluxnet.ethz.ch/index.php/data/ecosystem-fluxes/flux-processing-chain/)\n",
    "- Flux calculations (Level-1) were done in a previous step\n",
    "- This notebook uses the calculated fluxes (Level-1) and applies several post-processing steps:\n",
    "    - Quality flag extension (Level-2)\n",
    "    - Storage correction (Level-3.1)\n",
    "    - Outlier removal (Level-3.2)\n",
    "    - USTAR filtering (Level-3.3) - needs *known* thresholds from separate analysis, e.g. from FLUXNET\n",
    "    - Gap-filling (Level-4.1) for flux using multiple methods ([MDS](../GapFilling/FluxMDSGapFilling.ipynb), [long-term random forest](../GapFilling/LongTermRandomForestGapFilling.ipynb))\n",
    "- Other flux levels are currently not produced in this example:\n",
    "    \n",
    "    - NEE Partitioning (Level-4.2)\n",
    " \n",
    "**Important**\n",
    "- Flux variable names in the input files should follow the [FLUXNET convention](https://fluxnet.org/data/fluxnet2015-dataset/fullset-data-product/)"
   ]
  },
  {
   "cell_type": "markdown",
   "id": "114bdf76-2238-4790-9107-8242990b029a",
   "metadata": {},
   "source": [
    "</br>"
   ]
  },
  {
   "cell_type": "markdown",
   "id": "2cf306da-12dc-4e8f-a8f7-f5cbc7e74648",
   "metadata": {},
   "source": [
    "</br>"
   ]
  },
  {
   "cell_type": "markdown",
   "id": "aaa4ad7d-8c3f-40ab-90df-a9ebc92d0851",
   "metadata": {},
   "source": [
    "---"
   ]
  },
  {
   "cell_type": "markdown",
   "id": "da7534be-f906-48e0-8257-8134c6f379e2",
   "metadata": {},
   "source": [
    "# **GENERAL SETTINGS**"
   ]
  },
  {
   "cell_type": "markdown",
   "id": "43025513-8492-4928-b538-a2ad31dc5b24",
   "metadata": {},
   "source": [
    "---"
   ]
  },
  {
   "cell_type": "markdown",
   "id": "125e7c4d-d393-4b35-b948-83475f12a2ee",
   "metadata": {},
   "source": [
    "## Flux variable\n",
    "`FLUXVAR` is the name of the flux variable in the data files. In the EddyPro `_fluxnet_` output files, the flux variables we primarily use are:\n",
    "  - `FC` ... CO2 flux, becomes `NEE` after storage correction (Level-3.1)\n",
    "  - `LE` ... Latent heat flux (water)\n",
    "  - `H` ... Sensible heat flux\n",
    "  - `FN2O` ... Nitrous oxide flux\n",
    "  - `FCH4` ... Methane flux\n",
    "  \n",
    "There are more flux variables in the output file, but we rarely need them:\n",
    "  - `FH2O` ... H2O flux, very important but it is the same as `ET` and `LE` but with different units\n",
    "  - `ET` ... Evapotranspiration, very important but it is the same as `FH2O` and `LE` but with different units. We can easily calculte `ET` later from `LE`, e.g. in `ReddyProc`.\n",
    "  - `TAU` ... Momentum flux, a measure of the turbulent transfer of momentum between the land surface and the atmosphere\n",
    "\n",
    "Set the name of the flux variable in the output file(s), must use the FLUXNET naming convention, e.g. FC, FH2O, LE, ET, H, FN2O, FCH4:"
   ]
  },
  {
   "cell_type": "code",
   "execution_count": null,
   "id": "9be611ba-f72e-44eb-a121-5783f0c4037f",
   "metadata": {
    "ExecuteTime": {
     "end_time": "2024-10-04T11:38:38.905542Z",
     "start_time": "2024-10-04T11:38:38.891538Z"
    }
   },
   "outputs": [],
   "source": [
    "FLUXVAR = \"FN2O\""
   ]
  },
  {
   "cell_type": "markdown",
   "id": "bde30592-f8a2-4768-ac21-ea39deafde53",
   "metadata": {},
   "source": [
    "## Site location\n",
    "- Latitude and longitude of the site where data were recorded. This info is mainly used to calculate potential radiation, which is then used to divide the dataset into daytime and nighttime data.\n",
    "- UTC offset of the timestamp used in the dataset, important for calculating potential radiation for this location with the correct timestamp."
   ]
  },
  {
   "cell_type": "code",
   "execution_count": null,
   "id": "8cc892bd-75a4-467f-8399-6b152e37c4c1",
   "metadata": {
    "ExecuteTime": {
     "end_time": "2024-10-04T11:38:38.920886Z",
     "start_time": "2024-10-04T11:38:38.914887Z"
    },
    "tags": []
   },
   "outputs": [],
   "source": [
    "SITE_LAT = 47.210227\n",
    "SITE_LON = 8.410645\n",
    "UTC_OFFSET = 1  # Time stamp offset in relation to UTC, e.g. 1 for UTC+01:00 (CET), important for the calculation of potential radiation for detecting daytime and nighttime"
   ]
  },
  {
   "cell_type": "markdown",
   "id": "324d4d09-97bf-4ad3-94d6-b592f4de3a61",
   "metadata": {},
   "source": [
    "## Daytime/nighttime\n",
    "- Threshold for potential radiation in `W m-2`, records below threshold are considered nighttime"
   ]
  },
  {
   "cell_type": "code",
   "execution_count": null,
   "id": "b949cfb4-6a3a-4e84-8f34-b6e167758dd4",
   "metadata": {
    "ExecuteTime": {
     "end_time": "2024-10-04T11:38:46.445001Z",
     "start_time": "2024-10-04T11:38:46.434002Z"
    }
   },
   "outputs": [],
   "source": [
    "NIGHTTIME_THRESHOLD = 20"
   ]
  },
  {
   "cell_type": "markdown",
   "id": "e7c348b6-edd3-4589-a062-14cf22a2830a",
   "metadata": {},
   "source": [
    "## Quality requirements\n",
    "- The default setting is to accept highest-quality and medium-quality fluxes for daytime (overall quality flag `QCF` = 0 or 1), and highest-quality fluxes only for nighttime (flag `QCF` = 0)\n",
    "- `DAYTIME_ACCEPT_QCF_BELOW = 2` accepts high- (`QCF=0`) and medium-quality (`QCF=1`) fluxes for *daytime*, rejects low-quality (`QCF=2`) fluxes\n",
    "- `NIGHTTIMETIME_ACCEPT_QCF_BELOW = 1` accepts high-quality (`QCF=0`) fluxes for *nighttime*, rejects medium-quality (`QCF=1`) and low-quality (`QCF=2`) fluxes\n",
    "- This strict quality-filtering removes a lot of data points during nighttime"
   ]
  },
  {
   "cell_type": "code",
   "execution_count": null,
   "id": "ba755cd7-9f34-4548-89af-0eaac1163be1",
   "metadata": {
    "ExecuteTime": {
     "end_time": "2024-10-04T11:38:46.714119Z",
     "start_time": "2024-10-04T11:38:46.705611Z"
    }
   },
   "outputs": [],
   "source": [
    "DAYTIME_ACCEPT_QCF_BELOW = 2\n",
    "NIGHTTIMETIME_ACCEPT_QCF_BELOW = 2"
   ]
  },
  {
   "cell_type": "markdown",
   "id": "308b7e45-e419-4457-8523-58f9bea72b55",
   "metadata": {},
   "source": [
    "</br>"
   ]
  },
  {
   "cell_type": "markdown",
   "id": "ef9b5bf0-0c5d-4b7a-ba8a-f639d80546dd",
   "metadata": {},
   "source": [
    "---"
   ]
  },
  {
   "cell_type": "markdown",
   "id": "a8b8983b-88e5-42e3-8d72-9729f9306653",
   "metadata": {},
   "source": [
    "# **IMPORTS**"
   ]
  },
  {
   "cell_type": "markdown",
   "id": "73d28c1d-b917-4190-b647-2e15c823e9a8",
   "metadata": {},
   "source": [
    "---"
   ]
  },
  {
   "cell_type": "markdown",
   "id": "108750df-b5c9-4626-ab20-e62590ca31eb",
   "metadata": {},
   "source": [
    "- This notebook uses `diive` ([source code](https://github.com/holukas/diive)) to check eddy covariance fluxes for quality"
   ]
  },
  {
   "cell_type": "code",
   "execution_count": null,
   "id": "a5a21aa1-ea9a-4959-995e-3770371efc73",
   "metadata": {
    "ExecuteTime": {
     "end_time": "2024-10-04T11:38:55.417506Z",
     "start_time": "2024-10-04T11:38:54.448340Z"
    },
    "tags": []
   },
   "outputs": [],
   "source": [
    "import importlib.metadata\n",
    "import warnings\n",
    "from datetime import datetime\n",
    "from pathlib import Path\n",
    "\n",
    "import matplotlib.pyplot as plt\n",
    "import pandas as pd\n",
    "import scipy.stats\n",
    "import seaborn as sns\n",
    "\n",
    "from diive.core.dfun.stats import sstats  # Time series stats\n",
    "from diive.core.io.files import save_parquet, load_parquet\n",
    "from diive.core.plotting.timeseries import TimeSeries  # For simple (interactive) time series plotting\n",
    "from diive.pkgs.flux.hqflux import analyze_highest_quality_flux\n",
    "from diive.pkgs.fluxprocessingchain.fluxprocessingchain import FluxProcessingChain\n",
    "from diive.pkgs.fluxprocessingchain.fluxprocessingchain import LoadEddyProOutputFiles\n",
    "\n",
    "warnings.filterwarnings(action='ignore', category=FutureWarning)\n",
    "warnings.filterwarnings(action='ignore', category=UserWarning)\n",
    "version_diive = importlib.metadata.version(\"diive\")\n",
    "print(f\"diive version: v{version_diive}\")"
   ]
  },
  {
   "cell_type": "markdown",
   "id": "23c398ca-34db-4e7f-8b54-293a772ec7e4",
   "metadata": {},
   "source": [
    "</br>"
   ]
  },
  {
   "cell_type": "markdown",
   "id": "1a6cdfe8-a6ba-422d-a9b2-135dbbc3a1b5",
   "metadata": {},
   "source": [
    "</br>"
   ]
  },
  {
   "cell_type": "markdown",
   "id": "215b7901-10c6-458e-9722-72e0a6f3bed2",
   "metadata": {},
   "source": [
    "---"
   ]
  },
  {
   "cell_type": "markdown",
   "id": "5d93046a-097d-49d2-b46d-bbf5f67b3850",
   "metadata": {},
   "source": [
    "# **DOCSTRING** for `FluxProcessingChain`"
   ]
  },
  {
   "cell_type": "markdown",
   "id": "64abaf04-a775-4fc3-8b5e-1f1bd96f05d3",
   "metadata": {},
   "source": [
    "---"
   ]
  },
  {
   "cell_type": "code",
   "execution_count": null,
   "id": "dabeb49b-8bb0-41bd-adb4-1f496befe41f",
   "metadata": {
    "ExecuteTime": {
     "end_time": "2024-10-04T11:38:59.182656Z",
     "start_time": "2024-10-04T11:38:59.171656Z"
    },
    "tags": []
   },
   "outputs": [],
   "source": [
    "# help(FluxProcessingChain)"
   ]
  },
  {
   "cell_type": "markdown",
   "id": "a1c75189-5f15-47f6-a655-c2c91943a1dc",
   "metadata": {},
   "source": [
    "</br>"
   ]
  },
  {
   "cell_type": "markdown",
   "id": "57c69ddc-0420-451d-bf56-95859c5174d0",
   "metadata": {},
   "source": [
    "</br>"
   ]
  },
  {
   "cell_type": "markdown",
   "id": "ccc9eb0d-761a-4861-bcaf-d025898d752f",
   "metadata": {},
   "source": [
    "---"
   ]
  },
  {
   "cell_type": "markdown",
   "id": "72383d3c-88ba-4e50-ae97-313c8e701f05",
   "metadata": {},
   "source": [
    "# **LOAD DATA** (2 options)"
   ]
  },
  {
   "cell_type": "markdown",
   "id": "e4cc2ff7-1e15-4119-a4db-cc272ef6bac5",
   "metadata": {},
   "source": [
    "---"
   ]
  },
  {
   "cell_type": "markdown",
   "id": "ac588f5e-7046-482c-b350-9a956ed0df7b",
   "metadata": {},
   "source": [
    "- It is possible to load data from (multiple) EddyPro _fluxnet_ output files (data from files will be merged), or directly from one single [parquet](https://parquet.apache.org/) file.\n",
    "- parquet files are a good option for large datasets because they load and save much faster than when using conventional CSV files.\n",
    "- For large datasets, it makes sense to first load and merge data from the original EddyPro _fluxnet_ output files, then convert the merged data to one single parquet file and then use this file as input file."
   ]
  },
  {
   "cell_type": "markdown",
   "id": "c6301df0-7671-4ed1-8df4-7cbe5f14c8a5",
   "metadata": {},
   "source": [
    "</br>"
   ]
  },
  {
   "cell_type": "markdown",
   "id": "a33d178e-0b56-4526-87c6-ab7d8b40561a",
   "metadata": {},
   "source": [
    "## Option 1: Load data from single or multiple EddyPro *_fluxnet_* output files\n",
    "- Used to read data from the EddyPro _fluxnet_ output files\n",
    "- Found files will be merged together into one single dataframe (`maindf`)"
   ]
  },
  {
   "cell_type": "markdown",
   "id": "b6149c9a-184a-45e9-932d-7cbe0e91f5d5",
   "metadata": {},
   "source": [
    "If you want to search for EddyPro _fluxnet_ files in specific locations, you can specify multiple folders here:"
   ]
  },
  {
   "cell_type": "code",
   "execution_count": null,
   "id": "a717995a-0f01-4d33-8ce8-cbc10144df0a",
   "metadata": {},
   "outputs": [],
   "source": [
    "# # Folder(s) where input file(s) are located\n",
    "# SOURCEDIRS = [r'example_data/']  "
   ]
  },
  {
   "cell_type": "code",
   "execution_count": null,
   "id": "27280496-8f1c-4f1f-92b3-78248b113924",
   "metadata": {
    "ExecuteTime": {
     "end_time": "2024-10-04T11:39:01.513740Z",
     "start_time": "2024-10-04T11:39:01.496737Z"
    }
   },
   "outputs": [],
   "source": [
    "# ep = LoadEddyProOutputFiles(sourcedir=SOURCEDIRS, filetype='EDDYPRO-FLUXNET-CSV-30MIN')\n",
    "# ep.searchfiles()\n",
    "# ep.loadfiles()\n",
    "# maindf = ep.maindf\n",
    "# metadata = ep.metadata"
   ]
  },
  {
   "cell_type": "markdown",
   "id": "5c35481a-d05f-4efc-b059-e3b1d38e72b5",
   "metadata": {},
   "source": [
    "</br>"
   ]
  },
  {
   "cell_type": "markdown",
   "id": "22e6274e-909e-4957-bdd0-562598a855d1",
   "metadata": {},
   "source": [
    "## Option 2: Load data from `parquet` file\n",
    "- Can be used to continue a previous session where another flux variable was already post-processed\n",
    "- For example, if you have already post-processed CO2 flux and now want to post-process H2O flux\n",
    "- Also detects time resolution of time series, this info was lost when saving to the parquet file"
   ]
  },
  {
   "cell_type": "markdown",
   "id": "1761e577-6b15-4bbc-97a0-f695ece9bea4",
   "metadata": {},
   "source": [
    "If you want to load data directly from a specific parquet file, you can specify its name and location here:"
   ]
  },
  {
   "cell_type": "code",
   "execution_count": null,
   "id": "64b84971-ce58-43d5-b037-5100c0beacc1",
   "metadata": {},
   "outputs": [],
   "source": [
    "SOURCEDIR = r\"../30_MERGE_DATA\"\n",
    "FILENAME = r\"33.5_CH-CHA_IRGA+QCL+LGR+M10+MGMT_Level-1_eddypro_fluxnet_2005-2024.parquet\"\n",
    "FILEPATH = Path(SOURCEDIR) / FILENAME\n",
    "print(f\"Data will be loaded from the following file:\\n{FILEPATH}\")"
   ]
  },
  {
   "cell_type": "code",
   "execution_count": null,
   "id": "7b470221-0c6b-4200-94ec-02dbfda5ff1a",
   "metadata": {
    "ExecuteTime": {
     "end_time": "2024-10-04T11:39:07.435922Z",
     "start_time": "2024-10-04T11:39:04.112568Z"
    },
    "tags": []
   },
   "outputs": [],
   "source": [
    "maindf = load_parquet(filepath=FILEPATH)"
   ]
  },
  {
   "cell_type": "markdown",
   "id": "6c0a9763-13c2-4c58-81ec-ea48e574caf2",
   "metadata": {},
   "source": [
    "</br>"
   ]
  },
  {
   "cell_type": "markdown",
   "id": "bd4f2ceb-aabf-4ea1-be90-518c15d4fe3b",
   "metadata": {},
   "source": [
    "## Option 3: Load example data"
   ]
  },
  {
   "cell_type": "code",
   "execution_count": null,
   "id": "0ed61244-706b-4b28-9cd0-0320f8206364",
   "metadata": {},
   "outputs": [],
   "source": [
    "# from diive.configs.exampledata import load_exampledata_EDDYPRO_FLUXNET_CSV_30MIN\n",
    "# maindf, metadata = load_exampledata_EDDYPRO_FLUXNET_CSV_30MIN()"
   ]
  },
  {
   "cell_type": "markdown",
   "id": "cc4b45c8-3225-44c2-8922-bdb4901bbb0e",
   "metadata": {},
   "source": [
    "</br>"
   ]
  },
  {
   "cell_type": "markdown",
   "id": "a95ad377-e4e0-469e-9d88-15f3b00f03fc",
   "metadata": {},
   "source": [
    "## (Optional) Restrict data to time range"
   ]
  },
  {
   "cell_type": "code",
   "execution_count": null,
   "id": "c1565916-f241-4cfa-b9f0-c67c02eff2e8",
   "metadata": {
    "ExecuteTime": {
     "end_time": "2024-10-04T11:39:07.733598Z",
     "start_time": "2024-10-04T11:39:07.529974Z"
    }
   },
   "outputs": [],
   "source": [
    "# Restrict data range\n",
    "maindf = maindf.loc[(maindf.index.year >= 2012) & (maindf.index.year <= 2022)].copy()"
   ]
  },
  {
   "cell_type": "markdown",
   "id": "16cc1b00-7039-4afb-9a63-e81447b9c4e4",
   "metadata": {},
   "source": [
    "</br>"
   ]
  },
  {
   "cell_type": "markdown",
   "id": "c615a754-f764-4277-9606-1c87b32aae60",
   "metadata": {},
   "source": [
    "## Check data"
   ]
  },
  {
   "cell_type": "code",
   "execution_count": null,
   "id": "2bd776e3-2e4f-4336-ab1d-b29e4aa1186e",
   "metadata": {
    "ExecuteTime": {
     "end_time": "2024-10-04T11:39:13.136036Z",
     "start_time": "2024-10-04T11:39:13.073874Z"
    },
    "tags": []
   },
   "outputs": [],
   "source": [
    "display(maindf.head(3))\n",
    "display(maindf.tail(3))\n",
    "display(sstats(maindf[FLUXVAR]))"
   ]
  },
  {
   "cell_type": "code",
   "execution_count": null,
   "id": "f0d91cb8-d483-4595-baf5-72f7017751ab",
   "metadata": {
    "ExecuteTime": {
     "end_time": "2024-10-04T11:39:15.606975Z",
     "start_time": "2024-10-04T11:39:15.311112Z"
    },
    "tags": []
   },
   "outputs": [],
   "source": [
    "# TimeSeries(series=maindf[FLUXVAR]).plot_interactive()\n",
    "TimeSeries(series=maindf[FLUXVAR]).plot()"
   ]
  },
  {
   "cell_type": "markdown",
   "id": "2caff0ae-d48c-4dd4-9ff9-de5ca43e0a49",
   "metadata": {},
   "source": [
    "</br>"
   ]
  },
  {
   "cell_type": "markdown",
   "id": "dd36778a-00f4-41c2-9ac6-df9b610f2695",
   "metadata": {},
   "source": [
    "</br>"
   ]
  },
  {
   "cell_type": "markdown",
   "id": "7386cc57-e2ae-4506-b15b-a433831affc6",
   "metadata": {},
   "source": [
    "---"
   ]
  },
  {
   "cell_type": "markdown",
   "id": "8758828b-c3cf-4c7c-9835-4e3e69a27cf3",
   "metadata": {},
   "source": [
    "# **START FLUX PROCESSING CHAIN**"
   ]
  },
  {
   "cell_type": "markdown",
   "id": "8c18f358-23b6-4c4c-a703-a1e434943586",
   "metadata": {},
   "source": [
    "---"
   ]
  },
  {
   "cell_type": "markdown",
   "id": "5ba98e28-bb8f-4114-b92c-8b76884e1bd5",
   "metadata": {},
   "source": [
    "- First we need to initialize the processing chain by providing some basic info.\n",
    "- At the same time, some fundamental variables are also created: potential radiation, and two flags based on it: daytime flag (1=daytime) and nighttime flag (1=nighttime)."
   ]
  },
  {
   "cell_type": "code",
   "execution_count": null,
   "id": "41ba6aee-10c5-4305-8feb-46b2c738d00b",
   "metadata": {
    "ExecuteTime": {
     "end_time": "2024-10-04T11:39:22.367315Z",
     "start_time": "2024-10-04T11:39:22.261805Z"
    }
   },
   "outputs": [],
   "source": [
    "fpc = FluxProcessingChain(\n",
    "    df=maindf,\n",
    "    fluxcol=FLUXVAR,\n",
    "    site_lat=SITE_LAT,\n",
    "    site_lon=SITE_LON,\n",
    "    utc_offset=UTC_OFFSET,    \n",
    "    nighttime_threshold=NIGHTTIME_THRESHOLD,\n",
    "    daytime_accept_qcf_below=DAYTIME_ACCEPT_QCF_BELOW,\n",
    "    nighttimetime_accept_qcf_below=NIGHTTIMETIME_ACCEPT_QCF_BELOW\n",
    ")"
   ]
  },
  {
   "cell_type": "markdown",
   "id": "b30552b6-3e0d-465a-a6ce-850672db3d36",
   "metadata": {},
   "source": [
    "- Let's check the flux processing chain dataframe: this are the data the chain is working with in this run:"
   ]
  },
  {
   "cell_type": "code",
   "execution_count": null,
   "id": "83ab2d7f-7ab0-4fc7-88c1-9f66440baeef",
   "metadata": {
    "ExecuteTime": {
     "end_time": "2024-10-04T11:39:24.220033Z",
     "start_time": "2024-10-04T11:39:24.204031Z"
    }
   },
   "outputs": [],
   "source": [
    "fpc.fpc_df"
   ]
  },
  {
   "cell_type": "markdown",
   "id": "9c8ac3c7-9634-4cf1-a90d-b448c2fa8a6b",
   "metadata": {},
   "source": [
    "</br>"
   ]
  },
  {
   "cell_type": "markdown",
   "id": "c5faf2fb-caa5-44ad-8ef3-096bdc5a02e1",
   "metadata": {},
   "source": [
    "</br>"
   ]
  },
  {
   "cell_type": "markdown",
   "id": "70a02f32f0628959",
   "metadata": {},
   "source": [
    "---"
   ]
  },
  {
   "cell_type": "markdown",
   "id": "ebd806e7-28db-4e0c-9669-5535188628d3",
   "metadata": {},
   "source": [
    "# Level-2: **QUALITY FLAG EXTENSION**"
   ]
  },
  {
   "cell_type": "markdown",
   "id": "e283dc50-696a-4b44-a353-51033ebea04d",
   "metadata": {},
   "source": [
    "---"
   ]
  },
  {
   "cell_type": "markdown",
   "id": "80d0bf93-c0b7-4788-a12d-9167ec02f623",
   "metadata": {},
   "source": [
    "> Extract additional quality information from the EddyPro output and store it in newly added quality flags.\n",
    "\n",
    "\n",
    "\n",
    "Note that the USTAR filtering is not part of the Level-2 calculations."
   ]
  },
  {
   "cell_type": "markdown",
   "id": "de0e7b13-54ef-40c0-a6bb-2d5a261d6b3d",
   "metadata": {},
   "source": [
    "</br>"
   ]
  },
  {
   "cell_type": "markdown",
   "id": "66b328b9-c8c3-4b8d-9fa9-e8b9ae07a98e",
   "metadata": {},
   "source": [
    "## User settings\n",
    "- A test for missing values is always included: flag calculated here from missing flux values in the EddyPro output file"
   ]
  },
  {
   "cell_type": "markdown",
   "id": "79d31198-8909-4bb2-b0e9-46d31915bfa3",
   "metadata": {},
   "source": [
    "</br>"
   ]
  },
  {
   "cell_type": "markdown",
   "id": "d2e92fbd-9a58-4c5c-a4ea-05c2fbc37ada",
   "metadata": {},
   "source": [
    "### SSITC tests (default: `True`)\n",
    "- Flag calculated in EddyPro\n",
    "- Combination of the two partial tests *steady state test* and *developed turbulent conditions test*\n",
    "- This notebook expects the SSITC flag to follow the flagging policy according to Mauder and Foken 2004:\n",
    "    - `0` for best quality fluxes\n",
    "    - `1` for fluxes suitable for general analysis such as annual budgets (although this is debatable for nighttime data)\n",
    "    - `2` for fluxes that should be discarded from the dataset"
   ]
  },
  {
   "cell_type": "code",
   "execution_count": null,
   "id": "3c4ec15f-44e3-4ee4-aa1b-99b96cd28b99",
   "metadata": {
    "ExecuteTime": {
     "end_time": "2024-10-04T11:39:50.660658Z",
     "start_time": "2024-10-04T11:39:50.648152Z"
    }
   },
   "outputs": [],
   "source": [
    "TEST_SSITC = True  # Default True"
   ]
  },
  {
   "cell_type": "markdown",
   "id": "b3809277-5a55-4665-beba-5d59a0cc82f4",
   "metadata": {},
   "source": [
    "</br>"
   ]
  },
  {
   "cell_type": "markdown",
   "id": "61b26a89-05f7-4ab9-a0f9-a1df4364e5ed",
   "metadata": {},
   "source": [
    "### Flux base variable completeness test (default: `True`)\n",
    "- Flag newly calculated here\n",
    "- Check completeness of the variable that was used to calculate the respective flux\n",
    "- Example: `CO2` is the base variable that was used to calculate flux `FC`, the test is therefore run on `CO2`\n",
    "- Checks number of records of the relevant base variable available for each averaging Interval and calculates completeness flag as follows:\n",
    "    - `0` for files where >= 99% of base variable are available\n",
    "    - `1` for files where >= 97% and < 99% of base variable are available\n",
    "    - `2` for files where < 97% of base variable are available\n",
    " \n",
    "List of flux base variables and the corresponding fluxes:\n",
    "- `CO2`: used to calculate `FC`\n",
    "- `H2O`: used to calculate `FH2O`\n",
    "- `H2O`: used to calculate `LE`\n",
    "- `H2O`: used to calculate `ET`\n",
    "- `T_SONIC`: used to calculate `H`\n",
    "- `N2O`: used to calculate `FN2O`\n",
    "- `CH4`: used to calculate `FCH4`"
   ]
  },
  {
   "cell_type": "code",
   "execution_count": null,
   "id": "dfc54e01-bef6-4b92-87a1-f6cdbd924667",
   "metadata": {
    "ExecuteTime": {
     "end_time": "2024-10-04T11:39:54.984440Z",
     "start_time": "2024-10-04T11:39:54.980441Z"
    }
   },
   "outputs": [],
   "source": [
    "TEST_GAS_COMPLETENESS = True  # Default True"
   ]
  },
  {
   "cell_type": "markdown",
   "id": "b55a6381-664c-47e7-ab5b-b1ada145474c",
   "metadata": {},
   "source": [
    "</br>"
   ]
  },
  {
   "cell_type": "markdown",
   "id": "b7cde439-fe66-43ca-a336-0dc3b321e8a8",
   "metadata": {},
   "source": [
    "### Spectral correction factor test (default: `True`)\n",
    "- Flag calculated here from the gas `SCF` variable in EddyPro output file"
   ]
  },
  {
   "cell_type": "code",
   "execution_count": null,
   "id": "4c5ef1ea-3c7f-4dc7-b069-ca63bbd62546",
   "metadata": {
    "ExecuteTime": {
     "end_time": "2024-10-04T11:39:55.877659Z",
     "start_time": "2024-10-04T11:39:55.869659Z"
    }
   },
   "outputs": [],
   "source": [
    "TEST_SPECTRAL_CORRECTION_FACTOR = True  # Default True"
   ]
  },
  {
   "cell_type": "markdown",
   "id": "c27e5550-8368-4e70-bb4a-219a2d6cb70f",
   "metadata": {},
   "source": [
    "</br>"
   ]
  },
  {
   "cell_type": "markdown",
   "id": "1da185f0-4d0b-4987-a9b9-7125a6726ee1",
   "metadata": {},
   "source": [
    "### Signal strength test"
   ]
  },
  {
   "cell_type": "markdown",
   "id": "6c5b9f26-0510-4709-9173-15f515238d0a",
   "metadata": {},
   "source": [
    "<div class=\"alert alert-block alert-info\">\n",
    "<b>Always recommended if flux was calculated using a gas analyzer.</b>\n",
    "</div>  "
   ]
  },
  {
   "cell_type": "markdown",
   "id": "f9fd81c2-52c3-46a2-874d-0a4eb414579c",
   "metadata": {},
   "source": [
    "<div class=\"alert alert-block alert-danger\">\n",
    "<b>Do not use for H (sensible heat flux).</b> This test is only relevant for fluxes where the concentration/temperature was measured by a gas analyzer, e.g. FC, FH2O, LE, ET, N2O, CH4, etc ... \n",
    "</div>  "
   ]
  },
  {
   "cell_type": "markdown",
   "id": "1a99a2cd-aa00-4318-bf3b-1b9a76780d0b",
   "metadata": {},
   "source": [
    "- Signal strength / AGC / window dirtiness test (if available)\n",
    "- Flag calculated here from the signal strength / AGC variable for the gas analyzer in EddyPro output file\n",
    "- `SIGNAL_STRENGTH_COL`: Name of the column storing the signal strength, typically 'CUSTOM_AGC_MEAN' for LI-7500, 'CUSTOM_SIGNAL_STRENGTH_IRGA72_MEAN' for LI-7200, or something similar\n",
    "- `SIGNAL_STRENGTH_THRESHOLD`: Signal strength threshold, flux values where threshold is exceeded are flagged as rejected\n",
    "- `SIGNAL_STRENGTH_METHOD`: `discard above` flags fluxes where signal strength > threshold, `discard below` where signal strength < threshold"
   ]
  },
  {
   "cell_type": "code",
   "execution_count": null,
   "id": "c8f70505-6687-4350-8eb6-ee764c44b728",
   "metadata": {
    "ExecuteTime": {
     "end_time": "2024-10-04T11:40:00.524419Z",
     "start_time": "2024-10-04T11:40:00.515875Z"
    }
   },
   "outputs": [],
   "source": [
    "# Signal strength\n",
    "TEST_SIGNAL_STRENGTH = False\n",
    "TEST_SIGNAL_STRENGTH_COL = 'CUSTOM_AGC_MEAN'  # Typical variable name in fluxnet files\n",
    "TEST_SIGNAL_STRENGTH_METHOD = 'discard above'\n",
    "TEST_SIGNAL_STRENGTH_THRESHOLD = 90"
   ]
  },
  {
   "cell_type": "code",
   "execution_count": null,
   "id": "05015d17-8000-4e8f-9555-906717e973e2",
   "metadata": {
    "ExecuteTime": {
     "end_time": "2024-10-04T11:40:02.237839Z",
     "start_time": "2024-10-04T11:40:01.475494Z"
    },
    "tags": []
   },
   "outputs": [],
   "source": [
    "# TimeSeries(series=df_orig[SIGNAL_STRENGTH_COL]).plot_interactive()\n",
    "# TimeSeries(series=maindf[TEST_SIGNAL_STRENGTH_COL]).plot()"
   ]
  },
  {
   "cell_type": "markdown",
   "id": "8cc70f3e-b90f-44f9-a107-f41eae4b4c4c",
   "metadata": {},
   "source": [
    "</br>"
   ]
  },
  {
   "cell_type": "markdown",
   "id": "29a8579e-d90f-46b2-8953-55ae958650fb",
   "metadata": {},
   "source": [
    "### Raw data screening tests\n",
    "- Flags were calculated in EddyPro\n",
    "- See here for more details: [Despiking and raw data statistical screening (EddyPro help)](https://www.licor.com/env/support/EddyPro/topics/despiking-raw-statistical-screening.html)"
   ]
  },
  {
   "cell_type": "code",
   "execution_count": null,
   "id": "f2eafef7-48e6-4e81-aacd-7b684151f912",
   "metadata": {
    "ExecuteTime": {
     "end_time": "2024-10-04T11:40:04.199134Z",
     "start_time": "2024-10-04T11:40:04.186134Z"
    }
   },
   "outputs": [],
   "source": [
    "TEST_RAWDATA = True  # Default True\n",
    "TEST_RAWDATA_SPIKES = True  # Default True\n",
    "TEST_RAWDATA_AMPLITUDE = True  # Default True\n",
    "TEST_RAWDATA_DROPOUT = True  # Default True\n",
    "TEST_RAWDATA_ABSLIM = False  # Default False\n",
    "TEST_RAWDATA_SKEWKURT_HF = False  # Default False\n",
    "TEST_RAWDATA_SKEWKURT_SF = False  # Default False\n",
    "TEST_RAWDATA_DISCONT_HF = False  # Default False\n",
    "TEST_RAWDATA_DISCONT_SF = False  # Default False"
   ]
  },
  {
   "cell_type": "markdown",
   "id": "845e076c-1318-49cf-9f5c-8cbd87591999",
   "metadata": {},
   "source": [
    "</br>"
   ]
  },
  {
   "cell_type": "markdown",
   "id": "6b67ff4f-d2e3-4239-bd29-6ed883dfb994",
   "metadata": {},
   "source": [
    "### Angle-of-attack test (default: `False`)\n",
    "> This test calculates sample-wise Angle of Attacks throughout the current flux averaging period, and flags it if the percentage of angles of attack exceeding a user-defined range is beyond a (user-defined) threshold.  \n",
    "> Source: [EddyPro help](https://www.licor.com/env/support/EddyPro/topics/despiking-raw-statistical-screening.html?Highlight=angle%20of%20attack#Angleofattack)  *(3 Jan 2024)*\n",
    "- Flag was calculated in EddyPro\n",
    "- Flag can be useful during some time periods when the sonic anemometer had issues\n",
    "- Not used by default (similar to ICOS)"
   ]
  },
  {
   "cell_type": "code",
   "execution_count": null,
   "id": "7d371ccd-236b-4669-ad35-64dc67d33d2c",
   "metadata": {
    "ExecuteTime": {
     "end_time": "2024-10-04T11:40:09.161964Z",
     "start_time": "2024-10-04T11:40:09.155964Z"
    }
   },
   "outputs": [],
   "source": [
    "TEST_RAWDATA_ANGLE_OF_ATTACK = True  # Default False\n",
    "# TEST_RAWDATA_ANGLE_OF_ATTACK_APPLICATION_DATES = []\n",
    "TEST_RAWDATA_ANGLE_OF_ATTACK_APPLICATION_DATES = [['2008-01-01', '2010-01-01'],\n",
    "                                                  ['2016-03-01', '2016-05-01']]"
   ]
  },
  {
   "cell_type": "markdown",
   "id": "396532ee-1a90-4cf2-8d43-b848d4fd0b5d",
   "metadata": {},
   "source": [
    "</br>"
   ]
  },
  {
   "cell_type": "markdown",
   "id": "54504952-3b94-46dd-8e7f-d31edc9ad4c1",
   "metadata": {},
   "source": [
    "### Steadiness of horizontal wind test (default: `False`)\n",
    "> This test assesses whether the along-wind and crosswind components of the wind vector undergo a systematic reduction (or increase) throughout the file. If the quadratic combination of such systematic variations is beyond the user-selected limit, the flux averaging period is hard-flagged for instationary horizontal wind (Vickers and Mahrt, 1997, Par. 6g).  \n",
    "> Source: [EddyPro help](https://www.licor.com/env/support/EddyPro/topics/despiking-raw-statistical-screening.html?Highlight=angle%20of%20attack#Steadinessofhorizontalwind)  *(3 Jan 2024)*\n",
    "- Flag was calculated in EddyPro"
   ]
  },
  {
   "cell_type": "code",
   "execution_count": null,
   "id": "b463b413-be1c-4c0c-b64d-6e860fca78c8",
   "metadata": {
    "ExecuteTime": {
     "end_time": "2024-10-04T11:40:10.379761Z",
     "start_time": "2024-10-04T11:40:10.369761Z"
    }
   },
   "outputs": [],
   "source": [
    "TEST_RAWDATA_STEADINESS_OF_HORIZONTAL_WIND = False  # Default False"
   ]
  },
  {
   "cell_type": "markdown",
   "id": "3227aba0-8c96-4e33-97a8-0665d831a2b5",
   "metadata": {},
   "source": [
    "</br>"
   ]
  },
  {
   "cell_type": "markdown",
   "id": "79ff1cc4-494e-46f0-9bf4-12d19739a0aa",
   "metadata": {},
   "source": [
    "</br>"
   ]
  },
  {
   "cell_type": "markdown",
   "id": "4e3ddddd-0bef-4128-adb4-212c2faba985",
   "metadata": {},
   "source": [
    "## Run"
   ]
  },
  {
   "cell_type": "code",
   "execution_count": null,
   "id": "aeafb715-12de-45e0-bc2b-dd43887ff362",
   "metadata": {
    "ExecuteTime": {
     "end_time": "2024-10-04T11:40:12.233724Z",
     "start_time": "2024-10-04T11:40:11.610867Z"
    }
   },
   "outputs": [],
   "source": [
    "LEVEL2_SETTINGS = {\n",
    "    'signal_strength': {\n",
    "        'apply': TEST_SIGNAL_STRENGTH,\n",
    "        'signal_strength_col': TEST_SIGNAL_STRENGTH_COL,\n",
    "        'method': TEST_SIGNAL_STRENGTH_METHOD,\n",
    "        'threshold': TEST_SIGNAL_STRENGTH_THRESHOLD},\n",
    "    'raw_data_screening_vm97': {\n",
    "        'apply': TEST_RAWDATA,\n",
    "        'spikes': TEST_RAWDATA_SPIKES,\n",
    "        'amplitude': TEST_RAWDATA_AMPLITUDE,\n",
    "        'dropout': TEST_RAWDATA_DROPOUT,\n",
    "        'abslim': TEST_RAWDATA_ABSLIM,\n",
    "        'skewkurt_hf': TEST_RAWDATA_SKEWKURT_HF,\n",
    "        'skewkurt_sf': TEST_RAWDATA_SKEWKURT_SF,\n",
    "        'discont_hf': TEST_RAWDATA_DISCONT_HF,\n",
    "        'discont_sf': TEST_RAWDATA_DISCONT_SF},\n",
    "    'ssitc': {\n",
    "        'apply': TEST_SSITC},\n",
    "    'gas_completeness': {\n",
    "        'apply': TEST_GAS_COMPLETENESS},\n",
    "    'spectral_correction_factor': {\n",
    "        'apply': TEST_SPECTRAL_CORRECTION_FACTOR},\n",
    "    'angle_of_attack': {\n",
    "        'apply': TEST_RAWDATA_ANGLE_OF_ATTACK,\n",
    "        'application_dates': TEST_RAWDATA_ANGLE_OF_ATTACK_APPLICATION_DATES},\n",
    "    'steadiness_of_horizontal_wind': {\n",
    "        'apply': TEST_RAWDATA_STEADINESS_OF_HORIZONTAL_WIND}\n",
    "}\n",
    "fpc.level2_quality_flag_expansion(**LEVEL2_SETTINGS)"
   ]
  },
  {
   "cell_type": "markdown",
   "id": "e60e3b28-7746-45f9-9ded-ce732831fadf",
   "metadata": {},
   "source": [
    "</br>"
   ]
  },
  {
   "cell_type": "markdown",
   "id": "3c9d26c9-a40e-4437-89b2-e785eb49fc8c",
   "metadata": {},
   "source": [
    "</br>"
   ]
  },
  {
   "cell_type": "markdown",
   "id": "2396f2ca-ef89-46f8-b002-c7c1bda41fcf",
   "metadata": {},
   "source": [
    "## Finalize Level-2"
   ]
  },
  {
   "cell_type": "code",
   "execution_count": null,
   "id": "571988fd-c00c-4ae1-86c1-2aa4c265d242",
   "metadata": {
    "ExecuteTime": {
     "end_time": "2024-10-04T11:40:14.793146Z",
     "start_time": "2024-10-04T11:40:14.690640Z"
    }
   },
   "outputs": [],
   "source": [
    "fpc.finalize_level2()"
   ]
  },
  {
   "cell_type": "markdown",
   "id": "32592eaa-12c5-497c-9433-5aa916f67dc2",
   "metadata": {},
   "source": [
    "</br>"
   ]
  },
  {
   "cell_type": "markdown",
   "id": "be9e19b8-9408-40bf-9b8e-1d9753b4385e",
   "metadata": {},
   "source": [
    "### Available `Level-2` variables\n",
    "- This shows all available Level-2 variables for this flux"
   ]
  },
  {
   "cell_type": "code",
   "execution_count": null,
   "id": "c95c3407-75ee-4123-804d-de0ba227311b",
   "metadata": {
    "ExecuteTime": {
     "end_time": "2024-10-04T11:40:18.037150Z",
     "start_time": "2024-10-04T11:40:18.019149Z"
    },
    "tags": []
   },
   "outputs": [],
   "source": [
    "[x for x in fpc.fpc_df.columns if 'L2' in x]"
   ]
  },
  {
   "cell_type": "markdown",
   "id": "38b4c59d-47bb-40a9-9bbc-b270dd44c6a0",
   "metadata": {},
   "source": [
    "</br>"
   ]
  },
  {
   "cell_type": "markdown",
   "id": "7b4f29cb-c8fb-448c-812c-25b1707bbcd6",
   "metadata": {},
   "source": [
    "### Plots"
   ]
  },
  {
   "cell_type": "code",
   "execution_count": null,
   "id": "11fd6e97-c7ee-4245-9545-75f7575213e3",
   "metadata": {
    "ExecuteTime": {
     "end_time": "2024-10-04T11:40:20.806460Z",
     "start_time": "2024-10-04T11:40:19.860124Z"
    }
   },
   "outputs": [],
   "source": [
    "fpc.level2_qcf.showplot_qcf_heatmaps()"
   ]
  },
  {
   "cell_type": "code",
   "execution_count": null,
   "id": "a689d574-9d45-41a6-9bbd-6a28215d5946",
   "metadata": {
    "ExecuteTime": {
     "end_time": "2024-10-04T11:40:28.753886Z",
     "start_time": "2024-10-04T11:40:28.747884Z"
    }
   },
   "outputs": [],
   "source": [
    "# fpc.level2_qcf.showplot_qcf_timeseries()"
   ]
  },
  {
   "cell_type": "markdown",
   "id": "bd84432c-1aca-405a-961f-c82c061851da",
   "metadata": {},
   "source": [
    "</br>"
   ]
  },
  {
   "cell_type": "markdown",
   "id": "7bb9e18a-b1aa-457e-a110-063848d8382e",
   "metadata": {},
   "source": [
    "### Reports"
   ]
  },
  {
   "cell_type": "code",
   "execution_count": null,
   "id": "c0fc895a-f2bd-471c-babe-f0da3021109f",
   "metadata": {
    "ExecuteTime": {
     "end_time": "2024-10-04T11:40:30.173076Z",
     "start_time": "2024-10-04T11:40:29.680518Z"
    }
   },
   "outputs": [],
   "source": [
    "fpc.level2_qcf.report_qcf_evolution()"
   ]
  },
  {
   "cell_type": "code",
   "execution_count": null,
   "id": "a444dc1d-292c-44eb-b55a-36309a60e698",
   "metadata": {
    "ExecuteTime": {
     "end_time": "2024-10-04T11:40:48.277368Z",
     "start_time": "2024-10-04T11:40:48.269365Z"
    }
   },
   "outputs": [],
   "source": [
    "fpc.level2_qcf.report_qcf_series()"
   ]
  },
  {
   "cell_type": "code",
   "execution_count": null,
   "id": "774a61f6-defc-439e-bf34-97aad5c2d152",
   "metadata": {
    "ExecuteTime": {
     "end_time": "2024-10-04T11:40:49.472440Z",
     "start_time": "2024-10-04T11:40:49.462438Z"
    }
   },
   "outputs": [],
   "source": [
    "# fpc.level2_qcf.report_qcf_flags()"
   ]
  },
  {
   "cell_type": "markdown",
   "id": "47460cc0-7c78-4270-bce3-8ce897067973",
   "metadata": {},
   "source": [
    "</br>"
   ]
  },
  {
   "cell_type": "markdown",
   "id": "8917d284-5602-4496-b232-310a90a84977",
   "metadata": {},
   "source": [
    "</br>"
   ]
  },
  {
   "cell_type": "markdown",
   "id": "1fbd3759-d29d-4445-b039-f0da01069e4c",
   "metadata": {},
   "source": [
    "---"
   ]
  },
  {
   "cell_type": "markdown",
   "id": "b5cf25d3-d6c5-4403-b09a-a6167c9520cf",
   "metadata": {},
   "source": [
    "# Level-3.1: **STORAGE CORRECTION**"
   ]
  },
  {
   "cell_type": "markdown",
   "id": "332a8673-72f4-45c6-a8a3-76216b4d1ced",
   "metadata": {},
   "source": [
    "---"
   ]
  },
  {
   "cell_type": "markdown",
   "id": "13851c1e-7bb2-43c6-bca9-8060f3332af7",
   "metadata": {},
   "source": [
    "- The flux storage term (single point) is added to the flux\n",
    "- For some records, the storage term can be missing. In such cases, missing terms are gap-filled using the rolling mean in an expanding window.\n",
    "- Without gap-filling the storage term, we can lose an additional e.g. 2-3% of flux data"
   ]
  },
  {
   "cell_type": "markdown",
   "id": "0b534497-b244-4563-9a4b-b08b99892f01",
   "metadata": {},
   "source": [
    "</br>"
   ]
  },
  {
   "cell_type": "markdown",
   "id": "bf982e16-0698-4870-8dd5-9d7f02866af7",
   "metadata": {},
   "source": [
    "## Run"
   ]
  },
  {
   "cell_type": "code",
   "execution_count": null,
   "id": "3da210eb-4795-4c3d-9fc9-093dbdf7712e",
   "metadata": {
    "ExecuteTime": {
     "end_time": "2024-10-04T11:40:53.743848Z",
     "start_time": "2024-10-04T11:40:53.621338Z"
    },
    "scrolled": true,
    "tags": []
   },
   "outputs": [],
   "source": [
    "fpc.level31_storage_correction(gapfill_storage_term=True)"
   ]
  },
  {
   "cell_type": "markdown",
   "id": "3dff91b7-a117-40ee-9353-0b2688ba2e07",
   "metadata": {},
   "source": [
    "</br>"
   ]
  },
  {
   "cell_type": "markdown",
   "id": "9fbcf5a4-c627-4486-9b68-5bb5e8b65820",
   "metadata": {},
   "source": [
    "## **Finalize Level-3.1**"
   ]
  },
  {
   "cell_type": "code",
   "execution_count": null,
   "id": "acbe2a4a-4330-4e8e-81e9-abafd3fe05cf",
   "metadata": {
    "ExecuteTime": {
     "end_time": "2024-10-04T11:40:58.628371Z",
     "start_time": "2024-10-04T11:40:58.590116Z"
    }
   },
   "outputs": [],
   "source": [
    "fpc.finalize_level31()"
   ]
  },
  {
   "cell_type": "markdown",
   "id": "5ff7744a-5b8f-44f3-b323-5f241976a444",
   "metadata": {},
   "source": [
    "</br>"
   ]
  },
  {
   "cell_type": "markdown",
   "id": "deb26380-6a2f-4a38-a5dc-67a8d5550d46",
   "metadata": {},
   "source": [
    "### Available `Level-3.1` variables\n",
    "- This shows all available Level-3.1 variables for this flux"
   ]
  },
  {
   "cell_type": "code",
   "execution_count": null,
   "id": "f03e5836-ab91-4aa2-bdc1-b82b34074140",
   "metadata": {
    "ExecuteTime": {
     "end_time": "2024-10-04T11:41:36.642520Z",
     "start_time": "2024-10-04T11:41:36.627516Z"
    },
    "tags": []
   },
   "outputs": [],
   "source": [
    "[x for x in fpc.fpc_df.columns if 'L3.1' in x]"
   ]
  },
  {
   "cell_type": "markdown",
   "id": "50893247-5644-45a2-b0a1-81388d5fccc2",
   "metadata": {},
   "source": [
    "</br>"
   ]
  },
  {
   "cell_type": "markdown",
   "id": "a2847191-f80b-4ef9-af07-adcce78991d7",
   "metadata": {},
   "source": [
    "### Plots"
   ]
  },
  {
   "cell_type": "code",
   "execution_count": null,
   "id": "abe6b8ab-19bd-4927-a428-eec3d0804938",
   "metadata": {
    "ExecuteTime": {
     "end_time": "2024-10-04T11:41:57.853221Z",
     "start_time": "2024-10-04T11:41:56.562638Z"
    }
   },
   "outputs": [],
   "source": [
    "fpc.level31.showplot()"
   ]
  },
  {
   "cell_type": "markdown",
   "id": "aa746526-31ae-4bfe-95ef-53837ae67316",
   "metadata": {},
   "source": [
    "</br>"
   ]
  },
  {
   "cell_type": "markdown",
   "id": "7de701ea-15ae-4308-8c1f-1128b2de4144",
   "metadata": {},
   "source": [
    "### Report"
   ]
  },
  {
   "cell_type": "code",
   "execution_count": null,
   "id": "8c0e6a6b-eab3-45ce-8b5c-eb05326eee87",
   "metadata": {
    "ExecuteTime": {
     "end_time": "2024-10-04T11:42:03.598169Z",
     "start_time": "2024-10-04T11:42:03.565170Z"
    }
   },
   "outputs": [],
   "source": [
    "fpc.level31.report()"
   ]
  },
  {
   "cell_type": "markdown",
   "id": "ef503d8c-333a-446c-9f4e-1c13df50901d",
   "metadata": {},
   "source": [
    "</br>"
   ]
  },
  {
   "cell_type": "markdown",
   "id": "5a4243a76fba6b30",
   "metadata": {},
   "source": [
    "---    "
   ]
  },
  {
   "cell_type": "markdown",
   "id": "45aab4e90da28f47",
   "metadata": {},
   "source": [
    "# Optional: **Analyze highest-quality flux** (so far)"
   ]
  },
  {
   "cell_type": "markdown",
   "id": "a3685748-b744-4804-9d13-229e6bb2938a",
   "metadata": {},
   "source": [
    "---"
   ]
  },
  {
   "cell_type": "markdown",
   "id": "77120577-a5e5-4340-a11f-815f3cad0d21",
   "metadata": {},
   "source": [
    "- Analysis of fluxes after Level-3.1 where the overall quality flag `QCF` = 0\n",
    "- This helps in understanding in what range the \"true\" flux occurs\n",
    "- Here, the highest-quality fluxes are additionally filtered for outlier values using the relatively fast Local Outlier Factor test\n",
    "- For this quick analysis, it is possible that the outlier test cuts off some \"real\" values that should be retained, but it nevertheless helps in understanding the flux range\n",
    "- `QCF` = 0 is best quality, `QCF` = medium quality, `QCF` = 2 bad quality and always rejected\n",
    "- The difference between quality 0 and quality 1 or 2 is huge"
   ]
  },
  {
   "cell_type": "code",
   "execution_count": null,
   "id": "14ff330aff11d1ef",
   "metadata": {
    "ExecuteTime": {
     "end_time": "2024-10-04T11:42:14.851354Z",
     "start_time": "2024-10-04T11:42:10.442100Z"
    }
   },
   "outputs": [],
   "source": [
    "analyze_highest_quality_flux(flux=fpc.fpc_df[fpc.filteredseries_hq.name], nighttime_flag=fpc.fpc_df['NIGHTTIME'])"
   ]
  },
  {
   "cell_type": "markdown",
   "id": "2a54d3a5-2edb-4fb1-8484-6465c7815e09",
   "metadata": {},
   "source": [
    "</br>"
   ]
  },
  {
   "cell_type": "markdown",
   "id": "8f22a276-96c8-4b31-a62b-b711a2885120",
   "metadata": {},
   "source": [
    "</br>"
   ]
  },
  {
   "cell_type": "markdown",
   "id": "fe501a60-8bcd-406b-9915-e5a8bcfe5f90",
   "metadata": {},
   "source": [
    "---"
   ]
  },
  {
   "cell_type": "markdown",
   "id": "9ba93d1b-aee8-4b56-ba4f-79a31faf1af6",
   "metadata": {},
   "source": [
    "# Level-3.2: **OUTLIER DETECTION**"
   ]
  },
  {
   "cell_type": "markdown",
   "id": "c9e9ebd9-d70f-400a-866b-5dbd765745bd",
   "metadata": {},
   "source": [
    "---"
   ]
  },
  {
   "cell_type": "markdown",
   "id": "c05c1241-3e6b-4edd-bd49-f8b40893a7aa",
   "metadata": {},
   "source": [
    "- Running an outlier test creates a *preview* plot of the results\n",
    "- If the output looks as desired, run `fpc.level32_addflag()` cell below the preview to accept the results you see in the plot\n",
    "- All subsequent tests will then be based on these results\n",
    "- This means that each test is run on the data already filtered by the previous test\n",
    "- Each test creates its own quality flag\n",
    "- At the end of Level-3.2, an overall quality flag `QCF` is created that combines all of the individual flags into one single flag"
   ]
  },
  {
   "cell_type": "markdown",
   "id": "cb1cddab-0b2d-4997-9444-6b0af2a37077",
   "metadata": {},
   "source": [
    "</br>"
   ]
  },
  {
   "cell_type": "markdown",
   "id": "c80021a9-07e6-421c-8fe7-78efe54ccbcd",
   "metadata": {},
   "source": [
    "## Plot time series"
   ]
  },
  {
   "cell_type": "code",
   "execution_count": null,
   "id": "2ff94460-5f05-4ea6-bcbf-899e1b184092",
   "metadata": {
    "ExecuteTime": {
     "end_time": "2024-10-04T11:42:27.271172Z",
     "start_time": "2024-10-04T11:42:27.264173Z"
    },
    "tags": []
   },
   "outputs": [],
   "source": [
    "print(f\"{fpc.filteredseries.name} \\n(quality-controlled Level-3.1 version of {fpc.fluxcol})\")"
   ]
  },
  {
   "cell_type": "code",
   "execution_count": null,
   "id": "350aab8d-8385-470b-ba5b-505a2dc76cd7",
   "metadata": {
    "ExecuteTime": {
     "end_time": "2024-10-04T11:42:27.949630Z",
     "start_time": "2024-10-04T11:42:27.706439Z"
    },
    "tags": []
   },
   "outputs": [],
   "source": [
    "# TimeSeries(series=fpc.fpc_df[fpc.filteredseries.name]).plot_interactive()\n",
    "TimeSeries(series=fpc.fpc_df[fpc.filteredseries.name]).plot()"
   ]
  },
  {
   "cell_type": "markdown",
   "id": "a7b3a2dd-092c-4de6-b55f-9c0a018a668d",
   "metadata": {},
   "source": [
    "</br>"
   ]
  },
  {
   "cell_type": "markdown",
   "id": "ebd144ba-f917-473a-8b53-225ef85c0b8e",
   "metadata": {},
   "source": [
    "## Initiate calculations"
   ]
  },
  {
   "cell_type": "code",
   "execution_count": null,
   "id": "c05e1183-8003-4718-a861-265a6a7c27ff",
   "metadata": {
    "ExecuteTime": {
     "end_time": "2024-10-04T11:42:29.730252Z",
     "start_time": "2024-10-04T11:42:29.702252Z"
    },
    "tags": []
   },
   "outputs": [],
   "source": [
    "fpc.level32_stepwise_outlier_detection()"
   ]
  },
  {
   "cell_type": "markdown",
   "id": "3c840e27-07a1-4c87-82a6-df1d8397b255",
   "metadata": {},
   "source": [
    "</br>"
   ]
  },
  {
   "cell_type": "markdown",
   "id": "d66ccc41b7f79c33",
   "metadata": {},
   "source": [
    "</br>"
   ]
  },
  {
   "cell_type": "markdown",
   "id": "f25901bd0934f15",
   "metadata": {},
   "source": [
    "## Outlier flag: **Absolute limits**\n",
    "- remove values outside a physically plausible range\n",
    "- typical value for CO2 flux `FC`: +/-50 µmol m-2 s-1\n",
    "- typical value for latent evaporation flux `LE`: +800 / -50 W m-2\n",
    "- typical value for sensible heat flux `H`: +400 / -200 W m-2"
   ]
  },
  {
   "cell_type": "code",
   "execution_count": null,
   "id": "ddb0b3579fdeee99",
   "metadata": {
    "ExecuteTime": {
     "end_time": "2024-10-04T11:42:30.865579Z",
     "start_time": "2024-10-04T11:42:30.863580Z"
    }
   },
   "outputs": [],
   "source": [
    "# from diive.pkgs.outlierdetection.absolutelimits import AbsoluteLimits\n",
    "# help(AbsoluteLimits)"
   ]
  },
  {
   "cell_type": "code",
   "execution_count": null,
   "id": "fa3744afbde8431a",
   "metadata": {
    "ExecuteTime": {
     "end_time": "2024-10-04T11:42:33.647852Z",
     "start_time": "2024-10-04T11:42:31.421766Z"
    },
    "tags": []
   },
   "outputs": [],
   "source": [
    "MIN = -5\n",
    "MAX = 70\n",
    "fpc.level32_flag_outliers_abslim_test(minval=MIN, maxval=MAX, showplot=True, verbose=True)"
   ]
  },
  {
   "cell_type": "code",
   "execution_count": null,
   "id": "2833ca7b21005c5",
   "metadata": {
    "ExecuteTime": {
     "end_time": "2024-10-04T11:42:33.695360Z",
     "start_time": "2024-10-04T11:42:33.684360Z"
    },
    "tags": []
   },
   "outputs": [],
   "source": [
    "fpc.level32_addflag()"
   ]
  },
  {
   "cell_type": "markdown",
   "id": "f6253079219c922c",
   "metadata": {},
   "source": [
    "</br>"
   ]
  },
  {
   "cell_type": "markdown",
   "id": "55d664e9993da6cd",
   "metadata": {},
   "source": [
    "</br>"
   ]
  },
  {
   "cell_type": "markdown",
   "id": "303f2073-ef00-450e-a92b-76ed17f02803",
   "metadata": {},
   "source": [
    "## Outlier flag: **Manual flag**\n",
    "- The interactive plot can be used to determine the exact start and end of time ranges or data points that need to be removed, e.g. due to known instrument failure"
   ]
  },
  {
   "cell_type": "code",
   "execution_count": null,
   "id": "a14c6cf9-7e3f-410b-bcb4-ecf2c43f6e77",
   "metadata": {
    "ExecuteTime": {
     "end_time": "2024-10-04T11:43:57.833200Z",
     "start_time": "2024-10-04T11:43:57.821834Z"
    }
   },
   "outputs": [],
   "source": [
    "# from diive.pkgs.outlierdetection.manualremoval import ManualRemoval\n",
    "# help(ManualRemoval)"
   ]
  },
  {
   "cell_type": "code",
   "execution_count": null,
   "id": "15150e1e-71f6-4908-a132-3d4387fcb7ad",
   "metadata": {
    "ExecuteTime": {
     "end_time": "2024-10-04T11:43:58.145597Z",
     "start_time": "2024-10-04T11:43:58.139598Z"
    },
    "tags": []
   },
   "outputs": [],
   "source": [
    "# fpc.level32.showplot_cleaned(interactive=True)  # True or False\n",
    "# fpc.level32.showplot_cleaned(interactive=False)  # True or False"
   ]
  },
  {
   "cell_type": "code",
   "execution_count": null,
   "id": "772b8680-b7af-4d36-b880-4836574cec4c",
   "metadata": {
    "ExecuteTime": {
     "end_time": "2024-10-04T11:43:58.319628Z",
     "start_time": "2024-10-04T11:43:58.313629Z"
    },
    "tags": []
   },
   "outputs": [],
   "source": [
    "# REMOVE_DATES = [\n",
    "#     ['2008-12-01', '2009-05-01'],  # Removes date range between two datetimes (inclusive)\n",
    "#     # ['2008-12-01 00:00:15', '2022-05-03 06:45:00'],  # Removes date range between two datetimes (inclusive)\n",
    "#     # '2023-12-12 12:45:00'  # Removes data point with specific timestamp\n",
    "# ]\n",
    "# fpc.level32_flag_manualremoval_test(\n",
    "#     remove_dates=REMOVE_DATES,\n",
    "#     showplot=True, verbose=True)"
   ]
  },
  {
   "cell_type": "code",
   "execution_count": null,
   "id": "4359ea62-3646-4468-92dd-8be44df7f424",
   "metadata": {
    "ExecuteTime": {
     "end_time": "2024-10-04T11:43:58.526461Z",
     "start_time": "2024-10-04T11:43:58.519464Z"
    },
    "tags": []
   },
   "outputs": [],
   "source": [
    "# fpc.level32_addflag()"
   ]
  },
  {
   "cell_type": "code",
   "execution_count": null,
   "id": "92791785-e385-40e4-8c7c-cebb75c96ff4",
   "metadata": {
    "ExecuteTime": {
     "end_time": "2024-10-04T11:43:59.190807Z",
     "start_time": "2024-10-04T11:43:59.185802Z"
    },
    "tags": []
   },
   "outputs": [],
   "source": [
    "# fpc.level32.showplot_cleaned(interactive=True)  # True or False"
   ]
  },
  {
   "cell_type": "markdown",
   "id": "901b9614-911f-4217-a025-5642ad782c3d",
   "metadata": {},
   "source": [
    "</br>"
   ]
  },
  {
   "cell_type": "markdown",
   "id": "a310b2573f0562cb",
   "metadata": {},
   "source": [
    "</br>"
   ]
  },
  {
   "cell_type": "markdown",
   "id": "b63149ca8b0e5d25",
   "metadata": {},
   "source": [
    "## Outlier flag: **Hampel filter**, separate for daytime and nighttime\n",
    "- Recommended filter\n",
    "- Is slow compared to other filters:\n",
    "    - tested with 1 year of 30MIN time resolution data and it needed approx. 43 seconds on a fast desktop computer"
   ]
  },
  {
   "cell_type": "code",
   "execution_count": null,
   "id": "aa4526c59dce44d6",
   "metadata": {
    "ExecuteTime": {
     "end_time": "2024-10-04T11:44:12.942169Z",
     "start_time": "2024-10-04T11:44:12.924995Z"
    }
   },
   "outputs": [],
   "source": [
    "# from diive.pkgs.outlierdetection.hampel import Hampel\n",
    "# help(Hampel)"
   ]
  },
  {
   "cell_type": "code",
   "execution_count": null,
   "id": "f145ecaf2429af97",
   "metadata": {
    "ExecuteTime": {
     "end_time": "2024-10-04T11:46:20.689562Z",
     "start_time": "2024-10-04T11:44:14.296949Z"
    }
   },
   "outputs": [],
   "source": [
    "# %%time\n",
    "# WINDOW_LENGTH = 48 * 3\n",
    "# N_SIGMA_DT = 36\n",
    "# N_SIGMA_NT = 36\n",
    "# fpc.level32_flag_outliers_hampel_dtnt_test(window_length=WINDOW_LENGTH, n_sigma_dt=N_SIGMA_DT, n_sigma_nt=N_SIGMA_NT,\n",
    "#                                            showplot=True, verbose=True, repeat=True)"
   ]
  },
  {
   "cell_type": "code",
   "execution_count": null,
   "id": "b64764bd2466e7c7",
   "metadata": {
    "ExecuteTime": {
     "end_time": "2024-10-04T11:46:49.810593Z",
     "start_time": "2024-10-04T11:46:49.795594Z"
    },
    "tags": []
   },
   "outputs": [],
   "source": [
    "# fpc.level32_addflag()"
   ]
  },
  {
   "cell_type": "markdown",
   "id": "d20a42f034e7009a",
   "metadata": {},
   "source": [
    "</br>"
   ]
  },
  {
   "cell_type": "markdown",
   "id": "7b8d9ffc463704e",
   "metadata": {},
   "source": [
    "</br>"
   ]
  },
  {
   "cell_type": "markdown",
   "id": "59fa0cde-7181-4268-8b1c-b9b0168641bb",
   "metadata": {},
   "source": [
    "## Outlier flag: **z-score across all data**"
   ]
  },
  {
   "cell_type": "code",
   "execution_count": null,
   "id": "0b13e9aa-bc6d-47e1-9244-2a4dbe475e38",
   "metadata": {
    "ExecuteTime": {
     "end_time": "2024-09-18T22:08:15.442801Z",
     "start_time": "2024-09-18T22:08:15.438801Z"
    }
   },
   "outputs": [],
   "source": [
    "# from diive.pkgs.outlierdetection.zscore import zScore\n",
    "# help(zScore)"
   ]
  },
  {
   "cell_type": "code",
   "execution_count": null,
   "id": "3ccac559-acdf-4b99-94e0-073deb73fa78",
   "metadata": {
    "ExecuteTime": {
     "end_time": "2024-09-18T22:08:15.522337Z",
     "start_time": "2024-09-18T22:08:15.508802Z"
    },
    "tags": []
   },
   "outputs": [],
   "source": [
    "# THRES_ZSCORE = 6\n",
    "# fpc.level32_flag_outliers_zscore_test(thres_zscore=THRES_ZSCORE, showplot=True, verbose=True, repeat=True)"
   ]
  },
  {
   "cell_type": "code",
   "execution_count": null,
   "id": "4a73c771-33e8-4c45-b6c5-8f514289d752",
   "metadata": {
    "ExecuteTime": {
     "end_time": "2024-09-18T22:08:15.567940Z",
     "start_time": "2024-09-18T22:08:15.553932Z"
    },
    "tags": []
   },
   "outputs": [],
   "source": [
    "# fpc.level32_addflag()"
   ]
  },
  {
   "cell_type": "markdown",
   "id": "74190102-9f6b-48f7-a6c3-bb289b32113d",
   "metadata": {},
   "source": [
    "</br>"
   ]
  },
  {
   "cell_type": "markdown",
   "id": "88d81b50-c238-4390-a314-96b7848932fd",
   "metadata": {},
   "source": [
    "</br>"
   ]
  },
  {
   "cell_type": "markdown",
   "id": "0314c454-7d53-4c08-aef2-b676e98781b5",
   "metadata": {},
   "source": [
    "## Outlier flag: **Hampel filter**\n",
    "- Recommended filter\n",
    "- Is slow compared to other filters:\n",
    "    - tested with 1 year of 30MIN time resolution data and it needed approx. 33 seconds on a fast desktop computer\n",
    "    - tested with 19 years of 30MIN time resolution data and it needed approx. 20 minutes on a fast desktop computer"
   ]
  },
  {
   "cell_type": "code",
   "execution_count": null,
   "id": "2f600956-f79d-4e20-825a-c91ca0926ba4",
   "metadata": {
    "ExecuteTime": {
     "end_time": "2024-09-18T22:08:15.615141Z",
     "start_time": "2024-09-18T22:08:15.600563Z"
    }
   },
   "outputs": [],
   "source": [
    "# from diive.pkgs.outlierdetection.hampel import Hampel\n",
    "# help(Hampel)"
   ]
  },
  {
   "cell_type": "code",
   "execution_count": null,
   "id": "d3af456b-5d8b-4054-b0c7-3740c2b9dddf",
   "metadata": {
    "ExecuteTime": {
     "end_time": "2024-09-18T22:08:15.662725Z",
     "start_time": "2024-09-18T22:08:15.648728Z"
    },
    "tags": []
   },
   "outputs": [],
   "source": [
    "# WINDOW_LENGTH = 48 * 3\n",
    "# N_SIGMA = 32\n",
    "# # %%time\n",
    "# fpc.level32_flag_outliers_hampel_test(window_length=WINDOW_LENGTH, n_sigma=N_SIGMA, showplot=True, verbose=True, repeat=True)"
   ]
  },
  {
   "cell_type": "code",
   "execution_count": null,
   "id": "85947d2e-6e47-4bc1-bb38-b67b2a3ec0e6",
   "metadata": {
    "ExecuteTime": {
     "end_time": "2024-09-18T22:08:15.708285Z",
     "start_time": "2024-09-18T22:08:15.693953Z"
    },
    "tags": []
   },
   "outputs": [],
   "source": [
    "# fpc.level32_addflag()"
   ]
  },
  {
   "cell_type": "markdown",
   "id": "3b5bd618-d302-4b64-b7be-1804b1dca6c3",
   "metadata": {},
   "source": [
    "</br>"
   ]
  },
  {
   "cell_type": "markdown",
   "id": "6633eb57-709d-443f-a3f0-d068272b24b1",
   "metadata": {},
   "source": [
    "</br>"
   ]
  },
  {
   "cell_type": "markdown",
   "id": "7e84b5d8-cb2b-4eb6-bbe8-624e4243d145",
   "metadata": {
    "tags": []
   },
   "source": [
    "## Outlier flag: **z-score over all data**, separate for daytime and nighttime"
   ]
  },
  {
   "cell_type": "code",
   "execution_count": null,
   "id": "ee00d809-6fcb-4a6b-a055-6ecb32ad1b50",
   "metadata": {
    "ExecuteTime": {
     "end_time": "2024-09-18T22:08:15.754415Z",
     "start_time": "2024-09-18T22:08:15.740477Z"
    }
   },
   "outputs": [],
   "source": [
    "# from diive.pkgs.outlierdetection.zscore import zScoreDaytimeNighttime\n",
    "# help(zScoreDaytimeNighttime)"
   ]
  },
  {
   "cell_type": "code",
   "execution_count": null,
   "id": "72be7f1b-229a-40a6-b5ce-9130837cc7cf",
   "metadata": {
    "ExecuteTime": {
     "end_time": "2024-09-18T22:08:15.801837Z",
     "start_time": "2024-09-18T22:08:15.787376Z"
    },
    "tags": []
   },
   "outputs": [],
   "source": [
    "# THRES_ZSCORE = 5\n",
    "# fpc.level32_flag_outliers_zscore_dtnt_test(thres_zscore=THRES_ZSCORE, showplot=True, verbose=True, repeat=True)"
   ]
  },
  {
   "cell_type": "code",
   "execution_count": null,
   "id": "6dae686b-5dda-49b2-a71a-dde14af4638b",
   "metadata": {
    "ExecuteTime": {
     "end_time": "2024-09-18T22:08:15.848822Z",
     "start_time": "2024-09-18T22:08:15.834811Z"
    },
    "tags": []
   },
   "outputs": [],
   "source": [
    "# fpc.level32_addflag()"
   ]
  },
  {
   "cell_type": "markdown",
   "id": "34b5051b-bf02-40a0-b843-96a26f32f824",
   "metadata": {},
   "source": [
    "</br>"
   ]
  },
  {
   "cell_type": "markdown",
   "id": "2da49a4c-16ef-4049-8dd2-09211b75dd19",
   "metadata": {},
   "source": [
    "</br>"
   ]
  },
  {
   "cell_type": "markdown",
   "id": "f754e7e5-ea6e-4439-8310-531d2108fae5",
   "metadata": {
    "tags": []
   },
   "source": [
    "## Outlier flag: **Rolling z-score over all data**"
   ]
  },
  {
   "cell_type": "code",
   "execution_count": null,
   "id": "9d23de90-594e-47df-9d9a-9ec28c974e43",
   "metadata": {
    "ExecuteTime": {
     "end_time": "2024-09-18T22:08:15.895548Z",
     "start_time": "2024-09-18T22:08:15.880464Z"
    }
   },
   "outputs": [],
   "source": [
    "# from diive.pkgs.outlierdetection.zscore import zScoreRolling\n",
    "# help(zScoreRolling)"
   ]
  },
  {
   "cell_type": "code",
   "execution_count": null,
   "id": "17118298-2e6c-4b9d-a5d5-f9816b77d272",
   "metadata": {
    "ExecuteTime": {
     "end_time": "2024-09-18T22:08:15.942762Z",
     "start_time": "2024-09-18T22:08:15.928618Z"
    },
    "tags": []
   },
   "outputs": [],
   "source": [
    "THRES_ZSCORE = 10\n",
    "WINSIZE = 48 * 3\n",
    "fpc.level32_flag_outliers_zscore_rolling_test(winsize=WINSIZE, thres_zscore=THRES_ZSCORE, showplot=True, verbose=True, repeat=True)"
   ]
  },
  {
   "cell_type": "code",
   "execution_count": null,
   "id": "ed809632-0f06-4e8d-b8d5-057950a0bdc0",
   "metadata": {
    "ExecuteTime": {
     "end_time": "2024-09-18T22:08:15.989576Z",
     "start_time": "2024-09-18T22:08:15.974571Z"
    },
    "tags": []
   },
   "outputs": [],
   "source": [
    "fpc.level32_addflag()"
   ]
  },
  {
   "cell_type": "markdown",
   "id": "5f55cda7-3421-497b-9cb1-8b8b999a5ece",
   "metadata": {},
   "source": [
    "</br>"
   ]
  },
  {
   "cell_type": "markdown",
   "id": "63d6f353-329c-4524-95f8-b34f6ecfedb3",
   "metadata": {},
   "source": [
    "</br>"
   ]
  },
  {
   "cell_type": "markdown",
   "id": "99a5cb4e-6f65-4fb9-98af-a95f683d18e6",
   "metadata": {},
   "source": [
    "## Outlier flag: **Local standard deviation**, with rolling median and *rolling* standard deviation"
   ]
  },
  {
   "cell_type": "code",
   "execution_count": null,
   "id": "eebec392-2d04-4320-b24c-460e978db08e",
   "metadata": {
    "ExecuteTime": {
     "end_time": "2024-09-18T22:08:16.036314Z",
     "start_time": "2024-09-18T22:08:16.021807Z"
    }
   },
   "outputs": [],
   "source": [
    "# from diive.pkgs.outlierdetection.localsd import LocalSD\n",
    "# help(LocalSD)"
   ]
  },
  {
   "cell_type": "code",
   "execution_count": null,
   "id": "fb282eb0-91b3-4d22-8b8b-5df4cf110568",
   "metadata": {
    "ExecuteTime": {
     "end_time": "2024-09-18T22:08:16.082932Z",
     "start_time": "2024-09-18T22:08:16.068386Z"
    },
    "tags": []
   },
   "outputs": [],
   "source": [
    "N_SD = 8\n",
    "WINSIZE = 48 * 3\n",
    "fpc.level32_flag_outliers_localsd_test(n_sd=N_SD, winsize=WINSIZE, constant_sd=False, showplot=True, verbose=True, repeat=True)"
   ]
  },
  {
   "cell_type": "code",
   "execution_count": null,
   "id": "fa977c05-9ef5-4390-b73e-03220ed81f13",
   "metadata": {
    "ExecuteTime": {
     "end_time": "2024-09-18T22:08:16.130147Z",
     "start_time": "2024-09-18T22:08:16.115146Z"
    },
    "tags": []
   },
   "outputs": [],
   "source": [
    "fpc.level32_addflag()"
   ]
  },
  {
   "cell_type": "markdown",
   "id": "e30ce18f-1bfb-4d33-98f0-589dc4356c2a",
   "metadata": {},
   "source": [
    "</br>"
   ]
  },
  {
   "cell_type": "markdown",
   "id": "971bbda9f0c86c2f",
   "metadata": {},
   "source": [
    "</br>"
   ]
  },
  {
   "cell_type": "markdown",
   "id": "dfcb2cb0af5c77ce",
   "metadata": {},
   "source": [
    "## Outlier flag: **Local standard deviation**, with rolling median and *constant* standard deviation\n",
    "- keep standard deviation constant by setting parameter `constant_sd=True`"
   ]
  },
  {
   "cell_type": "code",
   "execution_count": null,
   "id": "2d5831f697a504b8",
   "metadata": {
    "ExecuteTime": {
     "end_time": "2024-09-18T22:08:16.177671Z",
     "start_time": "2024-09-18T22:08:16.162671Z"
    },
    "tags": []
   },
   "outputs": [],
   "source": [
    "# N_SD = 8\n",
    "# WINSIZE = 48 * 3\n",
    "# fpc.level32_flag_outliers_localsd_test(n_sd=N_SD, winsize=WINSIZE, constant_sd=True, showplot=True, verbose=True, repeat=True)"
   ]
  },
  {
   "cell_type": "code",
   "execution_count": null,
   "id": "f61dd6cb77a37517",
   "metadata": {
    "ExecuteTime": {
     "end_time": "2024-09-18T22:08:16.225399Z",
     "start_time": "2024-09-18T22:08:16.210398Z"
    },
    "tags": []
   },
   "outputs": [],
   "source": [
    "# fpc.level32_addflag()"
   ]
  },
  {
   "cell_type": "markdown",
   "id": "b3ad1032-451e-41ed-965e-14f571b6a74e",
   "metadata": {},
   "source": [
    "</br>"
   ]
  },
  {
   "cell_type": "markdown",
   "id": "64a4179dd333dc69",
   "metadata": {},
   "source": [
    "</br>"
   ]
  },
  {
   "cell_type": "markdown",
   "id": "0f54c17d-9599-4679-9162-76a900f2a0b7",
   "metadata": {},
   "source": [
    "## Outlier flag: **Increments z-score**"
   ]
  },
  {
   "cell_type": "code",
   "execution_count": null,
   "id": "1bde4043-d5a6-4ad9-b615-a9b90a3a4800",
   "metadata": {
    "ExecuteTime": {
     "end_time": "2024-09-18T22:08:16.272474Z",
     "start_time": "2024-09-18T22:08:16.257475Z"
    }
   },
   "outputs": [],
   "source": [
    "# from diive.pkgs.outlierdetection.incremental import zScoreIncrements\n",
    "# help(zScoreIncrements)"
   ]
  },
  {
   "cell_type": "code",
   "execution_count": null,
   "id": "8c5060ff-2fca-4bd4-857c-436254413dc8",
   "metadata": {
    "ExecuteTime": {
     "end_time": "2024-09-18T22:08:16.320458Z",
     "start_time": "2024-09-18T22:08:16.305474Z"
    },
    "tags": []
   },
   "outputs": [],
   "source": [
    "# THRES_ZSCORE = 4\n",
    "# fpc.level32_flag_outliers_increments_zcore_test(thres_zscore=THRES_ZSCORE, showplot=True, verbose=True, repeat=True)"
   ]
  },
  {
   "cell_type": "code",
   "execution_count": null,
   "id": "802c07d7-78ee-4860-8462-0be5832c914e",
   "metadata": {
    "ExecuteTime": {
     "end_time": "2024-09-18T22:08:16.366968Z",
     "start_time": "2024-09-18T22:08:16.351970Z"
    },
    "tags": []
   },
   "outputs": [],
   "source": [
    "# fpc.level32_addflag()"
   ]
  },
  {
   "cell_type": "markdown",
   "id": "7bc6af8f-648e-41cd-82ac-1dc20964d715",
   "metadata": {},
   "source": [
    "</br>"
   ]
  },
  {
   "cell_type": "markdown",
   "id": "aed8a06c-fed0-440e-b1af-c7f0b6c16124",
   "metadata": {},
   "source": [
    "</br>"
   ]
  },
  {
   "cell_type": "markdown",
   "id": "daf5735b-2c9f-45ea-b2a0-1c68392eb311",
   "metadata": {},
   "source": [
    "## Outlier flag: **Local outlier factor**, daytime/nighttime\n",
    "- Test is run separately for daytime and nighttime data\n",
    "- Description of local outlier factor: [here](https://scikit-learn.org/stable/modules/generated/sklearn.neighbors.LocalOutlierFactor.html)"
   ]
  },
  {
   "cell_type": "code",
   "execution_count": null,
   "id": "fecfe40a-9601-436b-a306-0ec474e761d5",
   "metadata": {
    "ExecuteTime": {
     "end_time": "2024-09-18T22:08:16.413782Z",
     "start_time": "2024-09-18T22:08:16.398780Z"
    }
   },
   "outputs": [],
   "source": [
    "# from diive.pkgs.outlierdetection.lof import LocalOutlierFactorDaytimeNighttime\n",
    "# help(LocalOutlierFactorDaytimeNighttime)"
   ]
  },
  {
   "cell_type": "code",
   "execution_count": null,
   "id": "85217430-2ce9-49bb-909f-32bb4b7732f9",
   "metadata": {
    "ExecuteTime": {
     "end_time": "2024-09-18T22:08:16.459846Z",
     "start_time": "2024-09-18T22:08:16.445974Z"
    },
    "tags": []
   },
   "outputs": [],
   "source": [
    "# N_NEIGHBORS = None\n",
    "# CONTAMINATION = None\n",
    "# fpc.level32_flag_outliers_lof_dtnt_test(n_neighbors=N_NEIGHBORS, contamination=CONTAMINATION, showplot=True, verbose=True, repeat=False, n_jobs=-1)"
   ]
  },
  {
   "cell_type": "code",
   "execution_count": null,
   "id": "5c6edcc7-1ac3-4be1-995b-a95216b57be6",
   "metadata": {
    "ExecuteTime": {
     "end_time": "2024-09-18T22:08:16.507182Z",
     "start_time": "2024-09-18T22:08:16.492183Z"
    },
    "tags": []
   },
   "outputs": [],
   "source": [
    "# fpc.level32_addflag()"
   ]
  },
  {
   "cell_type": "markdown",
   "id": "3cdad2d5-e356-46b3-8af3-835d0e373567",
   "metadata": {},
   "source": [
    "</br>"
   ]
  },
  {
   "cell_type": "markdown",
   "id": "4e2d2730-ecc0-43ae-b5a1-713ee3e3683c",
   "metadata": {},
   "source": [
    "</br>"
   ]
  },
  {
   "cell_type": "markdown",
   "id": "6d36b5a2-2a21-4b9a-82d2-e930318d4962",
   "metadata": {},
   "source": [
    "## Outlier flag: **Local outlier factor**\n",
    "- Test is run across all data\n",
    "- Description of local outlier factor: [here](https://scikit-learn.org/stable/modules/generated/sklearn.neighbors.LocalOutlierFactor.html)"
   ]
  },
  {
   "cell_type": "code",
   "execution_count": null,
   "id": "6559a916-ef5f-4c4b-8630-642b5209e103",
   "metadata": {
    "ExecuteTime": {
     "end_time": "2024-09-18T22:08:16.553400Z",
     "start_time": "2024-09-18T22:08:16.539401Z"
    }
   },
   "outputs": [],
   "source": [
    "# from diive.pkgs.outlierdetection.lof import LocalOutlierFactorAllData\n",
    "# help(LocalOutlierFactorAllData)"
   ]
  },
  {
   "cell_type": "code",
   "execution_count": null,
   "id": "e5ea7087-e927-4fa2-8a2c-704d14d0ab90",
   "metadata": {
    "ExecuteTime": {
     "end_time": "2024-09-18T22:08:16.601517Z",
     "start_time": "2024-09-18T22:08:16.586472Z"
    },
    "tags": []
   },
   "outputs": [],
   "source": [
    "# N_NEIGHBORS = 24\n",
    "# CONTAMINATION = None\n",
    "# fpc.level32_flag_outliers_lof_test(n_neighbors=N_NEIGHBORS, contamination=CONTAMINATION, showplot=True, verbose=True, repeat=False, n_jobs=-1)"
   ]
  },
  {
   "cell_type": "code",
   "execution_count": null,
   "id": "04227e53-eab3-4cf1-b2aa-2648786b4316",
   "metadata": {
    "ExecuteTime": {
     "end_time": "2024-09-18T22:08:16.647572Z",
     "start_time": "2024-09-18T22:08:16.633590Z"
    },
    "tags": []
   },
   "outputs": [],
   "source": [
    "# fpc.level32_addflag()"
   ]
  },
  {
   "cell_type": "markdown",
   "id": "f179334c-4be9-428e-8046-29c37c483aeb",
   "metadata": {},
   "source": [
    "</br>"
   ]
  },
  {
   "cell_type": "markdown",
   "id": "ce8974a8-5294-4e2e-a035-75f95d29f10b",
   "metadata": {},
   "source": [
    "</br>"
   ]
  },
  {
   "cell_type": "markdown",
   "id": "3c506208-143c-40c3-aecb-3d0c2d74a31c",
   "metadata": {},
   "source": [
    "## Outlier flag: **Absolute limits**, separate for daytime and nighttime data"
   ]
  },
  {
   "cell_type": "code",
   "execution_count": null,
   "id": "0600acd0-faea-47f1-b3cc-850d68c60cd5",
   "metadata": {
    "ExecuteTime": {
     "end_time": "2024-09-18T22:08:16.694122Z",
     "start_time": "2024-09-18T22:08:16.679124Z"
    }
   },
   "outputs": [],
   "source": [
    "# from diive.pkgs.outlierdetection.absolutelimits import AbsoluteLimitsDaytimeNighttime\n",
    "# help(AbsoluteLimitsDaytimeNighttime)"
   ]
  },
  {
   "cell_type": "code",
   "execution_count": null,
   "id": "9c069872-7c6a-42bd-b208-7203183e07da",
   "metadata": {
    "ExecuteTime": {
     "end_time": "2024-09-18T22:08:16.740628Z",
     "start_time": "2024-09-18T22:08:16.726134Z"
    },
    "tags": []
   },
   "outputs": [],
   "source": [
    "# MIN_DT = -5\n",
    "# MAX_DT = 70\n",
    "# MIN_NT = -5\n",
    "# MAX_NT = 40\n",
    "# fpc.level32_flag_outliers_abslim_dtnt_test(daytime_minmax=[MIN_DT, MAX_DT], nighttime_minmax=[MIN_NT, MAX_NT], showplot=True, verbose=True)"
   ]
  },
  {
   "cell_type": "code",
   "execution_count": null,
   "id": "d2ae334b-f1c3-4021-b19c-22271ee531f8",
   "metadata": {
    "ExecuteTime": {
     "end_time": "2024-09-18T22:08:16.788586Z",
     "start_time": "2024-09-18T22:08:16.773677Z"
    },
    "tags": []
   },
   "outputs": [],
   "source": [
    "# fpc.level32_addflag()"
   ]
  },
  {
   "cell_type": "markdown",
   "id": "5524c87c-b882-4619-8cbb-1af03ec60868",
   "metadata": {},
   "source": [
    "</br>"
   ]
  },
  {
   "cell_type": "markdown",
   "id": "29b30192-d89e-4c04-b660-434080b2a370",
   "metadata": {},
   "source": [
    "</br>"
   ]
  },
  {
   "cell_type": "markdown",
   "id": "b122bc8b-5684-4a80-a6cd-ee5765d804db",
   "metadata": {},
   "source": [
    "## Outlier flag: **Trim nighttime flux data**"
   ]
  },
  {
   "cell_type": "code",
   "execution_count": null,
   "id": "684dcb5a-0a89-4fcd-b46c-44080184db1c",
   "metadata": {
    "ExecuteTime": {
     "end_time": "2024-09-18T22:08:16.836744Z",
     "start_time": "2024-09-18T22:08:16.821581Z"
    }
   },
   "outputs": [],
   "source": [
    "# from diive.pkgs.outlierdetection.trim import TrimLow\n",
    "# help(TrimLow)"
   ]
  },
  {
   "cell_type": "code",
   "execution_count": null,
   "id": "28ee1181-4be4-400f-b13a-0d8422a46835",
   "metadata": {
    "ExecuteTime": {
     "end_time": "2024-09-18T22:08:16.883295Z",
     "start_time": "2024-09-18T22:08:16.868761Z"
    },
    "tags": []
   },
   "outputs": [],
   "source": [
    "# fpc.level32_flag_outliers_trim_low_test(trim_nighttime=True, lower_limit=-5, showplot=True, verbose=True)"
   ]
  },
  {
   "cell_type": "code",
   "execution_count": null,
   "id": "35e34e0e-ff12-45ae-b51f-9430cd444754",
   "metadata": {
    "ExecuteTime": {
     "end_time": "2024-09-18T22:08:16.931415Z",
     "start_time": "2024-09-18T22:08:16.916289Z"
    },
    "tags": []
   },
   "outputs": [],
   "source": [
    "# fpc.level32_addflag()"
   ]
  },
  {
   "cell_type": "markdown",
   "id": "9dd1d15b-60fa-4d7a-8c58-c7fe54bffb85",
   "metadata": {},
   "source": [
    "</br>"
   ]
  },
  {
   "cell_type": "markdown",
   "id": "6db00825-b8f8-4126-9499-07b4c8b06651",
   "metadata": {},
   "source": [
    "</br>"
   ]
  },
  {
   "cell_type": "markdown",
   "id": "2ce7999d-e76b-4fc5-8f53-189870ff4067",
   "metadata": {},
   "source": [
    "## **Finalize Level-3.2**: Calculate overall quality flag (so far)"
   ]
  },
  {
   "cell_type": "code",
   "execution_count": null,
   "id": "e95e0985-7653-4ca7-944c-e20c4c1c9110",
   "metadata": {
    "ExecuteTime": {
     "end_time": "2024-10-04T11:46:59.627171Z",
     "start_time": "2024-10-04T11:46:59.528864Z"
    }
   },
   "outputs": [],
   "source": [
    "fpc.finalize_level32()"
   ]
  },
  {
   "cell_type": "markdown",
   "id": "1e373075-219c-471b-a1c7-f0b3fae91f6b",
   "metadata": {},
   "source": [
    "</br>"
   ]
  },
  {
   "cell_type": "markdown",
   "id": "c8f200ed-0df5-4bbf-ada3-cd283c53c10c",
   "metadata": {},
   "source": [
    "### Available `Level-3.2` variables\n",
    "- This shows all available Level-3.2 variables for this flux"
   ]
  },
  {
   "cell_type": "code",
   "execution_count": null,
   "id": "ffccd327-ee5c-4c68-8477-3a011bc40298",
   "metadata": {
    "ExecuteTime": {
     "end_time": "2024-10-04T11:47:01.917601Z",
     "start_time": "2024-10-04T11:47:01.913600Z"
    },
    "tags": []
   },
   "outputs": [],
   "source": [
    "[x for x in fpc.fpc_df.columns if 'L3.2' in x]"
   ]
  },
  {
   "cell_type": "markdown",
   "id": "5427cd34-9fc7-4636-9f26-e7554cf435a3",
   "metadata": {},
   "source": [
    "</br>"
   ]
  },
  {
   "cell_type": "markdown",
   "id": "29c72009-1b8a-49e6-9163-86875947d25b",
   "metadata": {},
   "source": [
    "### Plot filtered flux after Level-3.2\n",
    "In the four panels, from left to right:\n",
    "- flux after Level-3.1, before outlier removal\n",
    "- flux after Level-3.2, after outlier removal\n",
    "- sum of the individual test flags\n",
    "- overall flag `QCF` (quality control flag), where `0`=best quality, `1`=medium quality, `2`=bad quality  "
   ]
  },
  {
   "cell_type": "code",
   "execution_count": null,
   "id": "959cb085-355e-4038-a486-11f5e210ef74",
   "metadata": {
    "ExecuteTime": {
     "end_time": "2024-10-04T11:47:04.721310Z",
     "start_time": "2024-10-04T11:47:03.772176Z"
    }
   },
   "outputs": [],
   "source": [
    "fpc.level32_qcf.showplot_qcf_heatmaps()"
   ]
  },
  {
   "cell_type": "code",
   "execution_count": null,
   "id": "b412d684-5830-440a-bd6c-b7d418388061",
   "metadata": {
    "ExecuteTime": {
     "end_time": "2024-10-04T11:47:08.496986Z",
     "start_time": "2024-10-04T11:47:08.102841Z"
    }
   },
   "outputs": [],
   "source": [
    "TimeSeries(series=fpc.filteredseries).plot()\n",
    "# TimeSeries(series=fpc.filteredseries).plot_interactive()"
   ]
  },
  {
   "cell_type": "code",
   "execution_count": null,
   "id": "e4a9a024-ec6d-4f09-b1a6-fa209fc9db74",
   "metadata": {
    "ExecuteTime": {
     "end_time": "2024-10-04T11:47:09.339769Z",
     "start_time": "2024-10-04T11:47:09.324770Z"
    }
   },
   "outputs": [],
   "source": [
    "# fpc.level32_qcf.showplot_qcf_timeseries()"
   ]
  },
  {
   "cell_type": "markdown",
   "id": "8fba6347-c47b-44eb-957d-58c7d3510971",
   "metadata": {},
   "source": [
    "</br>"
   ]
  },
  {
   "cell_type": "markdown",
   "id": "4b2d01a9-0afa-46ba-b997-97b4347fd3c2",
   "metadata": {},
   "source": [
    "### Reports"
   ]
  },
  {
   "cell_type": "code",
   "execution_count": null,
   "id": "f8656fca-e154-4bf5-bc5c-d1f0059a1b16",
   "metadata": {
    "ExecuteTime": {
     "end_time": "2024-10-04T11:47:10.769982Z",
     "start_time": "2024-10-04T11:47:10.154150Z"
    }
   },
   "outputs": [],
   "source": [
    "fpc.level32_qcf.report_qcf_evolution()"
   ]
  },
  {
   "cell_type": "code",
   "execution_count": null,
   "id": "96009e2f-4e70-40bc-85cc-9fca8cf89cf8",
   "metadata": {
    "ExecuteTime": {
     "end_time": "2024-10-04T11:47:13.901171Z",
     "start_time": "2024-10-04T11:47:13.883171Z"
    }
   },
   "outputs": [],
   "source": [
    "fpc.level32_qcf.report_qcf_series()"
   ]
  },
  {
   "cell_type": "code",
   "execution_count": null,
   "id": "1e2a50a4-853e-4571-bb76-e2032a10f3ed",
   "metadata": {
    "ExecuteTime": {
     "end_time": "2024-10-04T11:47:17.514244Z",
     "start_time": "2024-10-04T11:47:17.372735Z"
    },
    "scrolled": true
   },
   "outputs": [],
   "source": [
    "fpc.level32_qcf.report_qcf_flags()"
   ]
  },
  {
   "cell_type": "markdown",
   "id": "a1d9cbe7-dd7b-4566-a4f2-2835bb53c925",
   "metadata": {},
   "source": [
    "</br>"
   ]
  },
  {
   "cell_type": "markdown",
   "id": "23cd7ee26f6551f5",
   "metadata": {},
   "source": [
    "## Save Level-3.2 results to file\n",
    "- If needed, save results so far (input data and all created variables, e.g. flags and filtered fluxes) to a file\n",
    "- This can be useful if e.g. USTAR filtering is not needed and gap-filling is done elsewhere (ReddyProc...)"
   ]
  },
  {
   "cell_type": "code",
   "execution_count": null,
   "id": "185f2c68d85df6bf",
   "metadata": {},
   "outputs": [],
   "source": [
    "# results_df = fpc.get_data()\n",
    "# filename = \"51.1_FluxProcessingChain_after-L3.3_NEE\"\n",
    "# results_df.to_csv(f\"{filename}.csv\", index=True)\n",
    "# save_parquet(data=results_df, filename=filename)"
   ]
  },
  {
   "cell_type": "markdown",
   "id": "0ff796d5-1b49-412a-8cf6-537660fa46a1",
   "metadata": {},
   "source": [
    "</br>"
   ]
  },
  {
   "cell_type": "markdown",
   "id": "b7350b7b-dacb-4f97-92f5-5d19c10e7a0e",
   "metadata": {},
   "source": [
    "</br>"
   ]
  },
  {
   "cell_type": "markdown",
   "id": "ade4bfd9-4fac-42b9-ae52-0be4817d45b0",
   "metadata": {},
   "source": [
    "---"
   ]
  },
  {
   "cell_type": "markdown",
   "id": "b85fbf3265ea048e",
   "metadata": {},
   "source": [
    "# Level-3.3: **USTAR FILTERING**"
   ]
  },
  {
   "cell_type": "markdown",
   "id": "1299e665-1c41-4329-b82f-9ab4d0e1be16",
   "metadata": {},
   "source": [
    "---"
   ]
  },
  {
   "cell_type": "markdown",
   "id": "c02948da-54be-4e3d-b58f-1943f9ee9e72",
   "metadata": {},
   "source": [
    "- Daytime and nighttime data are filtered based on USTAR thresholds\n",
    "- Example USTAR thresholds from the analysis done by FLUXNET (2005-2023) for the intensively managed grassland [CH-CHA, Chamau](https://www.swissfluxnet.ethz.ch/index.php/sites/site-info-ch-cha/):\n",
    "    - CUT_16: `0.0529445`\n",
    "    - CUT_50: `0.0698982`\n",
    "    - CUT_84: `0.0928408`"
   ]
  },
  {
   "cell_type": "markdown",
   "id": "428f85998428f111",
   "metadata": {},
   "source": [
    "<div class=\"alert alert-block alert-danger\">\n",
    "    No USTAR filtering for: <b>H, LE, ET and FH2O.</b> \n",
    "</div>"
   ]
  },
  {
   "cell_type": "markdown",
   "id": "2594f6d9276721cb",
   "metadata": {},
   "source": [
    "> The USTAR filtering is not applied to H and LE, because it has not been proved that when there are CO2 advective fluxes, these also impact energy fluxes, specifically due to the fact that when advection is in general large (nighttime), energy fluxes are small.\n",
    "\n",
    "source: [Pastorello et al. (2020). The FLUXNET2015 dataset and the ONEFlux processing pipeline for eddy covariance data](https://doi.org/10.1038/s41597-020-0534-3)\n",
    "\n"
   ]
  },
  {
   "cell_type": "code",
   "execution_count": null,
   "id": "941c75617cdd6922",
   "metadata": {
    "ExecuteTime": {
     "end_time": "2024-10-04T11:47:25.674613Z",
     "start_time": "2024-10-04T11:47:25.624111Z"
    }
   },
   "outputs": [],
   "source": [
    "# USTAR_SCENARIOS = ['CUT_50']\n",
    "# USTAR_THRESHOLDS = [0.0698982]\n",
    "USTAR_SCENARIOS = ['CUT_16', 'CUT_50', 'CUT_84']\n",
    "USTAR_THRESHOLDS = [0.0529445, 0.0698982, 0.0928408]\n",
    "fpc.level33_constant_ustar(thresholds=USTAR_THRESHOLDS,\n",
    "                           threshold_labels=USTAR_SCENARIOS,\n",
    "                           showplot=False)"
   ]
  },
  {
   "cell_type": "markdown",
   "id": "a361b0a3-c9f0-4163-aefc-ed127521a8ca",
   "metadata": {},
   "source": [
    "</br>"
   ]
  },
  {
   "cell_type": "markdown",
   "id": "cc18588c0f4414f3",
   "metadata": {},
   "source": [
    "## **Finalize Level-3.3**: Caculate overall final quality flag"
   ]
  },
  {
   "cell_type": "code",
   "execution_count": null,
   "id": "20a998ad5b6c36ea",
   "metadata": {
    "ExecuteTime": {
     "end_time": "2024-10-04T11:47:33.982429Z",
     "start_time": "2024-10-04T11:47:33.599752Z"
    }
   },
   "outputs": [],
   "source": [
    "# Finalize: stores results for each USTAR scenario in a dict\n",
    "fpc.finalize_level33()"
   ]
  },
  {
   "cell_type": "markdown",
   "id": "d867d991-ee60-47b0-9074-c9d29832a51a",
   "metadata": {},
   "source": [
    "</br>"
   ]
  },
  {
   "cell_type": "markdown",
   "id": "1b05fa40-1b39-465f-a3bf-064ca0011db5",
   "metadata": {},
   "source": [
    "### Available `Level-3.3` variables\n",
    "- This shows all available Level-3.3 variables for this flux"
   ]
  },
  {
   "cell_type": "code",
   "execution_count": null,
   "id": "2b66af6f-f262-48d0-8c6d-e450384b5ca2",
   "metadata": {
    "ExecuteTime": {
     "end_time": "2024-10-04T11:47:37.599919Z",
     "start_time": "2024-10-04T11:47:37.595918Z"
    },
    "tags": []
   },
   "outputs": [],
   "source": [
    "[x for x in fpc.fpc_df.columns if 'L3.3' in x]"
   ]
  },
  {
   "cell_type": "markdown",
   "id": "9a13cb2f-1575-42b2-a1ee-d05324e19c8f",
   "metadata": {},
   "source": [
    "</br>"
   ]
  },
  {
   "cell_type": "markdown",
   "id": "1c923e2a-65f7-4cde-9f81-d0fea361fd25",
   "metadata": {},
   "source": [
    "### Plot filtered flux after Level-3.3\n",
    "In the four panels, from left to right:\n",
    "- flux after Level-3.1, before outlier removal and USTAR filtering\n",
    "- flux after Level-3.3, after outlier removal and USTAR filtering\n",
    "- sum of the individual test flags\n",
    "- overall flag `QCF` (quality control flag), where `0`=best quality, `1`=medium quality, `2`=bad quality  "
   ]
  },
  {
   "cell_type": "code",
   "execution_count": null,
   "id": "faa21184-d5cf-4bb0-89db-1a747fd728ea",
   "metadata": {
    "ExecuteTime": {
     "end_time": "2024-10-04T11:47:43.045462Z",
     "start_time": "2024-10-04T11:47:40.170196Z"
    }
   },
   "outputs": [],
   "source": [
    "for key, value in fpc.level33_qcf.items():\n",
    "    # TimeSeries(series=fpc.fpc_df[fluxhq]).plot_interactive()\n",
    "    # TimeSeries(series=fpc.fpc_df[FLUXVAR33QCF[key].name]).plot()\n",
    "    fpc.level33_qcf[key].showplot_qcf_heatmaps()"
   ]
  },
  {
   "cell_type": "markdown",
   "id": "1ec03cb8-2749-4f3a-ac20-4bea695fae23",
   "metadata": {},
   "source": [
    "</br>"
   ]
  },
  {
   "cell_type": "markdown",
   "id": "4f013fa5-1188-4836-bfea-d1c577be45aa",
   "metadata": {},
   "source": [
    "### Reports"
   ]
  },
  {
   "cell_type": "code",
   "execution_count": null,
   "id": "ed0211c9-2fec-4be9-8f53-204d5f439884",
   "metadata": {
    "ExecuteTime": {
     "end_time": "2024-10-04T11:53:32.140151Z",
     "start_time": "2024-10-04T11:53:30.140839Z"
    }
   },
   "outputs": [],
   "source": [
    "for key, value in fpc.level33_qcf.items():\n",
    "    fpc.level33_qcf[key].report_qcf_evolution()"
   ]
  },
  {
   "cell_type": "code",
   "execution_count": null,
   "id": "4f3aeadf-c518-4ebf-aeb1-46f2dde3a948",
   "metadata": {
    "ExecuteTime": {
     "end_time": "2024-10-04T11:54:02.390706Z",
     "start_time": "2024-10-04T11:54:02.376706Z"
    }
   },
   "outputs": [],
   "source": [
    "for key, value in fpc.level33_qcf.items():\n",
    "    fpc.level33_qcf[key].report_qcf_series()"
   ]
  },
  {
   "cell_type": "code",
   "execution_count": null,
   "id": "1a22117a-0b6f-412a-aa1d-09afcef60741",
   "metadata": {
    "ExecuteTime": {
     "end_time": "2024-10-04T11:54:20.130751Z",
     "start_time": "2024-10-04T11:54:19.771168Z"
    },
    "scrolled": true
   },
   "outputs": [],
   "source": [
    "for key, value in fpc.level33_qcf.items():\n",
    "    fpc.level33_qcf[key].report_qcf_flags()"
   ]
  },
  {
   "cell_type": "markdown",
   "id": "78f1d962-0357-41e5-b162-ae216a82faa5",
   "metadata": {},
   "source": [
    "</br>"
   ]
  },
  {
   "cell_type": "markdown",
   "id": "9d00f90d7f4172bc",
   "metadata": {},
   "source": [
    "</br>"
   ]
  },
  {
   "cell_type": "markdown",
   "id": "7757de93876cb209",
   "metadata": {},
   "source": [
    "## Overview: data after `Level-3.3`"
   ]
  },
  {
   "cell_type": "markdown",
   "id": "9c7d67d8ffcd61d6",
   "metadata": {},
   "source": [
    "## Flux variable names"
   ]
  },
  {
   "cell_type": "code",
   "execution_count": null,
   "id": "f3aae56ea047cf19",
   "metadata": {
    "ExecuteTime": {
     "end_time": "2024-10-04T11:54:55.036823Z",
     "start_time": "2024-10-04T11:54:55.032822Z"
    }
   },
   "outputs": [],
   "source": [
    "fluxes_qcf = [c for c in fpc.fpc_df.columns if str(c).endswith(\"_QCF\") and not str(c).startswith(\"FLAG_\") and \"L3.3\" in c]\n",
    "fluxes_qcf0 = [c for c in fpc.fpc_df.columns if\n",
    "               str(c).endswith(\"_QCF0\") and not str(c).startswith(\"FLAG_\") and \"L3.3\" in c]\n",
    "print(f\"Quality-controlled fluxes: {fluxes_qcf}\")\n",
    "print(f\"Quality-controlled fluxes, HIGHEST QUALITY: {fluxes_qcf0}\")\n",
    "if (DAYTIME_ACCEPT_QCF_BELOW == 1) & (NIGHTTIMETIME_ACCEPT_QCF_BELOW == 1):\n",
    "    print(f\"{'*' * 100}\\nNote that since only QCF below 1 is accepted for daytime and nighttime data, \"\n",
    "          f\"the _QCF and _QCF0 variables are identical.\")"
   ]
  },
  {
   "cell_type": "markdown",
   "id": "503fe89179dd5640",
   "metadata": {},
   "source": [
    "</br>"
   ]
  },
  {
   "cell_type": "code",
   "execution_count": null,
   "id": "8f43a3633e57a4a5",
   "metadata": {
    "ExecuteTime": {
     "end_time": "2024-10-04T11:55:07.176720Z",
     "start_time": "2024-10-04T11:55:07.163213Z"
    }
   },
   "outputs": [],
   "source": [
    "FLUXVAR2QCF = fpc.filteredseries_level2_qcf.name\n",
    "FLUXVAR31QCF = fpc.filteredseries_level31_qcf.name\n",
    "FLUXVAR32QCF = fpc.filteredseries_level32_qcf.name\n",
    "FLUXVAR32QCF_HQ = f\"{FLUXVAR32QCF}0\"\n",
    "FLUXVAR33QCF = fpc.filteredseries_level33_qcf\n",
    "\n",
    "print(\"--------------------------\")\n",
    "print(\"OVERVIEW OF FLUX VARIABLES\")\n",
    "print(\"--------------------------\")\n",
    "print(\n",
    "    f\"\"\n",
    "    f\"{FLUXVAR} ... original input flux\\n\"\n",
    "    f\"{FLUXVAR2QCF} ... flux quality-controlled with Level-2 flags\\n    -->  not used in any further processing steps\\n\"\n",
    "    f\"{FLUXVAR31QCF} ... flux quality-controlled with Level-2 flags, including Level-3.1 storage correction\\n   -->  not used in any further processing steps\\n\"\n",
    "    f\"{FLUXVAR32QCF} ... flux quality-controlled with Level-2 and Level-3.2 flags, including Level-3.1 storage correction)\\n    -->  not used in any further processing steps\\n\"\n",
    "    f\"{FLUXVAR32QCF_HQ} ... highest-quality flux (QCF=0), quality-controlled with Level-2 and Level-3.2 flags, including Level-3.1 storage correction)\\n    -->  not used in any further processing steps\\n\"\n",
    ")\n",
    "print(\"Variables for further steps:\")\n",
    "for key, value in FLUXVAR33QCF.items():\n",
    "    print(\n",
    "        f\"{FLUXVAR33QCF[key].name} ... flux quality-controlled with Level-2 and Level-3.2 flags, and after Level-3.3 USTAR filtering ({key}), including Level-3.1 storage correction\\n-->   to be used in gap-filling and all further steps\")\n",
    "\n",
    "if (DAYTIME_ACCEPT_QCF_BELOW == 1) & (NIGHTTIMETIME_ACCEPT_QCF_BELOW == 1):\n",
    "    print(f\"{'*' * 100}\\nNote that since only QCF below 1 is accepted for daytime and nighttime data, \"\n",
    "          f\"the _QCF and _QCF0 variables are identical.\")"
   ]
  },
  {
   "cell_type": "markdown",
   "id": "e2c009c0f0ae00bd",
   "metadata": {},
   "source": [
    "</br>"
   ]
  },
  {
   "cell_type": "markdown",
   "id": "e221ec0d135c0b7c",
   "metadata": {},
   "source": [
    "</br>"
   ]
  },
  {
   "cell_type": "markdown",
   "id": "456da749ced0ca89",
   "metadata": {},
   "source": [
    "## Plot quality-controlled flux after `Level-3.3`\n",
    "- Plot flux after storage-correction, flux quality control, outlier removal and USTAR filtering"
   ]
  },
  {
   "cell_type": "code",
   "execution_count": null,
   "id": "7465286ad987263",
   "metadata": {
    "ExecuteTime": {
     "end_time": "2024-10-04T11:55:17.763191Z",
     "start_time": "2024-10-04T11:55:16.580496Z"
    },
    "tags": []
   },
   "outputs": [],
   "source": [
    "for key, value in FLUXVAR33QCF.items():\n",
    "    # TimeSeries(series=fpc.fpc_df[fluxhq]).plot_interactive()\n",
    "    TimeSeries(series=fpc.fpc_df[FLUXVAR33QCF[key].name]).plot()"
   ]
  },
  {
   "cell_type": "code",
   "execution_count": null,
   "id": "4705061ab6e5a92f",
   "metadata": {
    "ExecuteTime": {
     "end_time": "2024-10-04T11:55:26.843316Z",
     "start_time": "2024-10-04T11:55:26.128714Z"
    },
    "tags": []
   },
   "outputs": [],
   "source": [
    "# Creating a dictionary by passing Series objects as values\n",
    "\n",
    "frame = {\n",
    "    f'original ({FLUXVAR})': fpc.fpc_df[FLUXVAR],\n",
    "    f'+ flux quality flags ({FLUXVAR2QCF})': fpc.fpc_df[FLUXVAR2QCF],\n",
    "    f'++ storage correction ({FLUXVAR31QCF})': fpc.fpc_df[FLUXVAR31QCF],\n",
    "    f'+++ outlier removal ({FLUXVAR32QCF})': fpc.fpc_df[FLUXVAR32QCF]\n",
    "}\n",
    "for key, value in FLUXVAR33QCF.items():\n",
    "    frame[f'+++ USTAR filtering ({key}, {FLUXVAR33QCF[key].name})'] = FLUXVAR33QCF[key]\n",
    "\n",
    "overview = pd.DataFrame(frame)\n",
    "overview.cumsum().plot(title=f\"Cumulative\", figsize=(14, 7), x_compat=True, alpha=1);"
   ]
  },
  {
   "cell_type": "markdown",
   "id": "e28fd87799aafe09",
   "metadata": {},
   "source": [
    "</br>"
   ]
  },
  {
   "cell_type": "markdown",
   "id": "43dac6fb387583d9",
   "metadata": {},
   "source": [
    "</br>"
   ]
  },
  {
   "cell_type": "markdown",
   "id": "b8c30c5fcc74dc5f",
   "metadata": {},
   "source": [
    "## Available `Level-3.3` fluxes"
   ]
  },
  {
   "cell_type": "code",
   "execution_count": null,
   "id": "d2e612323b3de454",
   "metadata": {
    "ExecuteTime": {
     "end_time": "2024-10-04T11:55:38.024976Z",
     "start_time": "2024-10-04T11:55:38.019976Z"
    },
    "tags": []
   },
   "outputs": [],
   "source": [
    "_fluxcols = [x for x in fpc.fpc_df.columns if\n",
    "             'L3.1' and 'L3.3' in x and str(x).endswith('_QCF') and not str(x).startswith('FLAG_')]\n",
    "_fluxcols"
   ]
  },
  {
   "cell_type": "code",
   "execution_count": null,
   "id": "c0dcf7ce428679d9",
   "metadata": {
    "ExecuteTime": {
     "end_time": "2024-10-04T11:55:39.981343Z",
     "start_time": "2024-10-04T11:55:39.964340Z"
    },
    "tags": []
   },
   "outputs": [],
   "source": [
    "_subset = fpc.fpc_df[_fluxcols].copy()\n",
    "_subset.head()"
   ]
  },
  {
   "cell_type": "code",
   "execution_count": null,
   "id": "23db47236cf11a0e",
   "metadata": {
    "ExecuteTime": {
     "end_time": "2024-10-04T11:55:44.706128Z",
     "start_time": "2024-10-04T11:55:43.846866Z"
    },
    "tags": []
   },
   "outputs": [],
   "source": [
    "_subset.plot(subplots=True, x_compat=True,\n",
    "             title=\"Available Level-3.3 fluxes after application of all quality checks\", figsize=(12, 4.5));"
   ]
  },
  {
   "cell_type": "code",
   "execution_count": null,
   "id": "efb070a7b7be4b0a",
   "metadata": {
    "ExecuteTime": {
     "end_time": "2024-10-04T11:55:46.076752Z",
     "start_time": "2024-10-04T11:55:45.218676Z"
    }
   },
   "outputs": [],
   "source": [
    "# # Draw boxplots\n",
    "# for _f in _fluxcols:\n",
    "#     boxplots_df = fpc.fpc_df[[_f, \"DAYTIME\"]].copy()\n",
    "#     boxplots_df[\"MONTH\"] = boxplots_df.index.month\n",
    "#     sns.set_theme(style=\"ticks\", palette=\"pastel\")\n",
    "#     plt.figure(figsize=(12, 3))\n",
    "#     sns.boxplot(x=\"MONTH\", y=_f, palette=[\"r\", \"b\"], hue=\"DAYTIME\", data=boxplots_df).set_title(f\"Boxplot of {_f}\")\n",
    "#     sns.despine(offset=10, trim=True)\n",
    "#     plt.axhline(0, color=\"black\");"
   ]
  },
  {
   "cell_type": "code",
   "execution_count": null,
   "id": "43f8f4e7043fd8e2",
   "metadata": {
    "ExecuteTime": {
     "end_time": "2024-10-04T11:56:05.996033Z",
     "start_time": "2024-10-04T11:56:04.541214Z"
    }
   },
   "outputs": [],
   "source": [
    "# # Draw a nested violinplot and split the violins for easier comparison\n",
    "# for _f in _fluxcols:\n",
    "#     plt.figure(figsize=(20, 2))\n",
    "#     sns.violinplot(data=boxplots_df, x=\"MONTH\", y=fpc.fpc_df[_f], hue=\"DAYTIME\", split=True, palette=[\"r\", \"b\"], gap=.1,\n",
    "#                    inner=\"quart\")\n",
    "#     plt.axhline(0, color=\"black\")"
   ]
  },
  {
   "cell_type": "markdown",
   "id": "7aa1a10067fc442c",
   "metadata": {},
   "source": [
    "</br>"
   ]
  },
  {
   "cell_type": "markdown",
   "id": "45eb6aad39c25f15",
   "metadata": {},
   "source": [
    "## Save Level-3.3 results to file\n",
    "- If needed, save results so far (input data and all created variables, e.g. flags and filtered fluxes) to a file\n",
    "- This can be useful if e.g. gap-filling should be done elsewhere (ReddyProc...)"
   ]
  },
  {
   "cell_type": "code",
   "execution_count": null,
   "id": "5aa68a3756a8b5b4",
   "metadata": {},
   "outputs": [],
   "source": [
    "# # results_df = fpc.get_data()\n",
    "# out_df = fpc.fpc_df.copy()\n",
    "# filename = \"32.2_FluxProcessingChain_L3.3_NEE-results\"\n",
    "# out_df.to_csv(f\"{filename}.csv\", index=True)\n",
    "# save_parquet(data=out_df, filename=filename)"
   ]
  },
  {
   "cell_type": "markdown",
   "id": "63b7966a90ab069e",
   "metadata": {},
   "source": [
    "</br>"
   ]
  },
  {
   "cell_type": "markdown",
   "id": "2800b276-0180-4c04-9fe9-4dfec3829741",
   "metadata": {},
   "source": [
    "</br>"
   ]
  },
  {
   "cell_type": "markdown",
   "id": "e6e1e301-d269-4c06-8bac-63b3d5b0b021",
   "metadata": {},
   "source": [
    "## Export for MDS gap-filling in REddyProc"
   ]
  },
  {
   "cell_type": "code",
   "execution_count": null,
   "id": "86f1907f-f5d3-48bd-9f0b-69dd25b37759",
   "metadata": {},
   "outputs": [],
   "source": [
    "# from diive.core.times.times import insert_timestamp\n",
    "# export = results_df.copy()"
   ]
  },
  {
   "cell_type": "code",
   "execution_count": null,
   "id": "9dec9d3b-9b04-41b6-ae85-a46e490cf93f",
   "metadata": {},
   "outputs": [],
   "source": [
    "# exportcols = ['NEE_L3.1_L3.3_CUT_16_QCF', 'NEE_L3.1_L3.3_CUT_50_QCF', 'NEE_L3.1_L3.3_CUT_84_QCF',\n",
    "#               'SW_IN_T1_2_1', 'TA_T1_2_1', 'VPD_T1_2_1']\n",
    "# export = export[exportcols].copy()\n",
    "# locs = (export.index.year >= 2005) & (export.index.year <= 2023)\n",
    "# export = export[locs].copy()\n",
    "# export = insert_timestamp(data=export, convention=\"end\", set_as_index=True)\n",
    "# export"
   ]
  },
  {
   "cell_type": "code",
   "execution_count": null,
   "id": "e5aceedd-37bc-45b8-b9b6-66bfe7b10dcc",
   "metadata": {},
   "outputs": [],
   "source": [
    "# filename = \"32.3_FluxProcessingChain_L3.3_NEE-subset-forREddyProc\"\n",
    "# export.to_csv(f\"{filename}.csv\", index=True)\n",
    "# save_parquet(data=export, filename=filename)"
   ]
  },
  {
   "cell_type": "markdown",
   "id": "3c01b5e2-2a20-4287-a39f-df4ad2226cb7",
   "metadata": {},
   "source": [
    "</br>"
   ]
  },
  {
   "cell_type": "markdown",
   "id": "adfbaf7e-504b-4954-9083-09ddf883a760",
   "metadata": {},
   "source": [
    "---"
   ]
  },
  {
   "cell_type": "markdown",
   "id": "17db6125e32c973a",
   "metadata": {},
   "source": [
    "# Level-4.1: **GAP-FILLING**"
   ]
  },
  {
   "cell_type": "markdown",
   "id": "6392ead5-54fa-416b-a721-f46681f62ca0",
   "metadata": {},
   "source": [
    "---"
   ]
  },
  {
   "cell_type": "markdown",
   "id": "b70fddda-77ec-4572-8039-2dec23e17b0b",
   "metadata": {},
   "source": [
    "- Introduced in `diive` v0.85.0, gap-filling can now be done using both random forest and MDS\n",
    "- For gap-filling using MDS, make sure that variables are in the required units: short-wave incoming radiation in `W m-2`, air temperature in `°C`, VPD in `hPa`\n",
    "\n",
    "Parameters:\n",
    "- `mds_settings` are parameters for the MDS gap-filling method, [see docstring here for more details](https://github.com/holukas/diive/blob/main/diive/pkgs/gapfilling/mds.py)\n",
    "- `rf_settings` are parameters for scikit's `RandomForestRegressor` model, [see their official documentation for allowed parameters](https://scikit-learn.org/stable/modules/generated/sklearn.ensemble.RandomForestRegressor.html)\n",
    "- `ml_feature_settings` are general settings for machine-learning models (such as random forest)"
   ]
  },
  {
   "cell_type": "code",
   "execution_count": null,
   "id": "5e3a4028658b2eff",
   "metadata": {
    "ExecuteTime": {
     "end_time": "2024-10-04T12:03:54.549922Z",
     "start_time": "2024-10-04T11:56:14.955416Z"
    }
   },
   "outputs": [],
   "source": [
    "%%time\n",
    "# Management variables\n",
    "MGMT_VARS = [\n",
    "    \"TIMESINCE_MGMT_FERT_MIN_FOOTPRINT\", \"TIMESINCE_MGMT_FERT_ORG_FOOTPRINT\",\n",
    "    \"TIMESINCE_MGMT_GRAZING_FOOTPRINT\", \"TIMESINCE_MGMT_MOWING_FOOTPRINT\",\n",
    "    \"TIMESINCE_MGMT_SOILCULTIVATION_FOOTPRINT\", \"TIMESINCE_MGMT_SOWING_FOOTPRINT\",\n",
    "    \"TIMESINCE_MGMT_PESTICIDE_HERBICIDE_FOOTPRINT\", \"TIMESINCE_PREC_RAIN_TOT_GF1_0.5_1\"\n",
    "]\n",
    "\n",
    "# Already lagged variants of SWC, TS and PRECIP\n",
    "AGG_VARS = [\n",
    "    # SWC\n",
    "    \"SWC_GF1_0.15_1_gfXG_MEAN3H\",\n",
    "    \".SWC_GF1_0.15_1_gfXG_MEAN3H-24\", \".SWC_GF1_0.15_1_gfXG_MEAN3H-18\",\n",
    "    \".SWC_GF1_0.15_1_gfXG_MEAN3H-12\", \".SWC_GF1_0.15_1_gfXG_MEAN3H-6\",\n",
    "    # TS\n",
    "    \"TS_GF1_0.04_1_gfXG_MEAN3H\",\n",
    "    \".TS_GF1_0.04_1_gfXG_MEAN3H-24\", \".TS_GF1_0.04_1_gfXG_MEAN3H-18\",\n",
    "    \".TS_GF1_0.04_1_gfXG_MEAN3H-12\", \".TS_GF1_0.04_1_gfXG_MEAN3H-6\",\n",
    "    \"TS_GF1_0.15_1_gfXG_MEAN3H\",\n",
    "    \".TS_GF1_0.15_1_gfXG_MEAN3H-24\", \".TS_GF1_0.15_1_gfXG_MEAN3H-18\",\n",
    "    \".TS_GF1_0.15_1_gfXG_MEAN3H-12\", \".TS_GF1_0.15_1_gfXG_MEAN3H-6\",\n",
    "    \"TS_GF1_0.4_1_gfXG_MEAN3H\",\n",
    "    \".TS_GF1_0.4_1_gfXG_MEAN3H-24\", \".TS_GF1_0.4_1_gfXG_MEAN3H-18\",\n",
    "    \".TS_GF1_0.4_1_gfXG_MEAN3H-12\", \".TS_GF1_0.4_1_gfXG_MEAN3H-6\",\n",
    "    # PRECIP\n",
    "    \"PREC_RAIN_TOT_GF1_0.5_1_MEAN3H\",\n",
    "    \".PREC_RAIN_TOT_GF1_0.5_1_MEAN3H-24\", \".PREC_RAIN_TOT_GF1_0.5_1_MEAN3H-18\",\n",
    "    \".PREC_RAIN_TOT_GF1_0.5_1_MEAN3H-12\", \".PREC_RAIN_TOT_GF1_0.5_1_MEAN3H-6\"\n",
    "]\n",
    "\n",
    "METEO_VARS = [\n",
    "    \"TS_GF1_0.04_1_gfXG\",\n",
    "    \"TS_GF1_0.15_1_gfXG\",\n",
    "    \"TS_GF1_0.4_1_gfXG\",\n",
    "    \"SWC_GF1_0.15_1_gfXG\", \n",
    "    \"PREC_RAIN_TOT_GF1_0.5_1\"\n",
    "]\n",
    "\n",
    "FEATURES = METEO_VARS + AGG_VARS + MGMT_VARS\n",
    "\n",
    "fpc.level41_gapfilling_longterm(\n",
    "    run_mds=False,\n",
    "    run_random_forest=True,\n",
    "    verbose=True,\n",
    "    ml_feature_settings={\n",
    "        'features': FEATURES,\n",
    "        'features_lag': [-1, -1],\n",
    "        'features_lag_stepsize': 1,\n",
    "        'features_lag_exclude_cols': MGMT_VARS + AGG_VARS,  # Management variables and already lagged variables are not lagged here\n",
    "        'reduce_features': True,\n",
    "        'include_timestamp_as_features': True,\n",
    "        'add_continuous_record_number': False,\n",
    "        'perm_n_repeats': 5,\n",
    "        },\n",
    "    rf_settings={\n",
    "        'n_estimators': 500,\n",
    "        'random_state': 42,\n",
    "        'min_samples_split': 2,\n",
    "        'min_samples_leaf': 1,\n",
    "        'n_jobs': -1\n",
    "        },\n",
    "    # mds_settings={\n",
    "    #     'swin': \"SW_IN_T1_2_1\",\n",
    "    #     'ta': \"TA_T1_2_1\",\n",
    "    #     'vpd': \"VPD_T1_2_1\",\n",
    "    #     'swin_class': 50,\n",
    "    #     'ta_class': 2.5,\n",
    "    #     'vpd_class': 0.5,\n",
    "    #     'min_n_vals_nt': 0\n",
    "    # }\n",
    ")"
   ]
  },
  {
   "cell_type": "markdown",
   "id": "6e60f0a679bc3826",
   "metadata": {},
   "source": [
    "## Get results\n",
    "- Results from the flux processing chain can be accessed using `.get_data()`\n",
    "- This returns a dataframe containing all input data and all newly generated variables, such as quality flags, quality-filtered fluxes and gap-filled fluxes"
   ]
  },
  {
   "cell_type": "code",
   "execution_count": null,
   "id": "6752971f694d0b36",
   "metadata": {
    "ExecuteTime": {
     "end_time": "2024-10-04T12:03:54.798602Z",
     "start_time": "2024-10-04T12:03:54.557923Z"
    }
   },
   "outputs": [],
   "source": [
    "results = fpc.get_data(verbose=1)\n",
    "results"
   ]
  },
  {
   "cell_type": "markdown",
   "id": "233a3f84bfab0d65",
   "metadata": {},
   "source": [
    "## Model scores"
   ]
  },
  {
   "cell_type": "code",
   "execution_count": null,
   "id": "a70188e5fc6e1f44",
   "metadata": {
    "ExecuteTime": {
     "end_time": "2024-10-04T12:04:05.870584Z",
     "start_time": "2024-10-04T12:04:05.845223Z"
    }
   },
   "outputs": [],
   "source": [
    "pd.set_option('display.max_columns', 500)\n",
    "pd.set_option('display.max_rows', 500)\n",
    "pd.set_option('display.width', 9999)\n",
    "fpc.report_gapfilling_model_scores()"
   ]
  },
  {
   "cell_type": "code",
   "execution_count": null,
   "id": "56b8eeb7-32f1-466b-b6fa-389f090c6464",
   "metadata": {},
   "outputs": [],
   "source": [
    "fpc.report_gapfilling_feature_importances()"
   ]
  },
  {
   "cell_type": "markdown",
   "id": "4e7b1638aa7e3fc6",
   "metadata": {},
   "source": [
    "During long-term gap-filling, different years are pooled together to predict one central year, i.e., multiple models are used.  \n",
    "The used data pools can be display with:"
   ]
  },
  {
   "cell_type": "code",
   "execution_count": null,
   "id": "e811275d-e657-4bd1-ab10-4170f9a3d501",
   "metadata": {
    "ExecuteTime": {
     "end_time": "2024-10-04T12:04:11.168149Z",
     "start_time": "2024-10-04T12:04:11.159152Z"
    }
   },
   "outputs": [],
   "source": [
    "fpc.report_gapfilling_poolyears()"
   ]
  },
  {
   "cell_type": "markdown",
   "id": "7bbfeb41a868bcb0",
   "metadata": {},
   "source": [
    "## Names of gap-filled variables\n"
   ]
  },
  {
   "cell_type": "code",
   "execution_count": null,
   "id": "c3b89c8c-7028-4f05-8821-e0a55eac170e",
   "metadata": {
    "ExecuteTime": {
     "end_time": "2024-10-04T12:04:27.220139Z",
     "start_time": "2024-10-04T12:04:27.203139Z"
    }
   },
   "outputs": [],
   "source": [
    "print(\"Used model, USTAR scenario, non-gapfilled variable and gap-filled variable:\")\n",
    "fpc.report_gapfilling_variables()"
   ]
  },
  {
   "cell_type": "code",
   "execution_count": null,
   "id": "9e4abbcbab50bce4",
   "metadata": {
    "ExecuteTime": {
     "end_time": "2024-10-04T12:04:28.660538Z",
     "start_time": "2024-10-04T12:04:28.646029Z"
    }
   },
   "outputs": [],
   "source": [
    "gapfilled_names = fpc.get_gapfilled_names()\n",
    "gapfilled_names"
   ]
  },
  {
   "cell_type": "markdown",
   "id": "2b9198fc9651344e",
   "metadata": {},
   "source": [
    "Gap-filled data can also be accessed directly. To get all gap-filled variables and also the same variables before gap-filling in a dataframe, use `.get_gapfilled_variables()`: "
   ]
  },
  {
   "cell_type": "code",
   "execution_count": null,
   "id": "e5f993d2830a250a",
   "metadata": {
    "ExecuteTime": {
     "end_time": "2024-10-04T12:04:30.731664Z",
     "start_time": "2024-10-04T12:04:30.721664Z"
    }
   },
   "outputs": [],
   "source": [
    "gapfilled_vars = fpc.get_gapfilled_variables()\n",
    "gapfilled_vars.head(3)"
   ]
  },
  {
   "cell_type": "markdown",
   "id": "dcf1fa41-516d-44ae-8622-eb96339797c5",
   "metadata": {},
   "source": [
    "The names of the flux that was gap-filled can be accessed like this:"
   ]
  },
  {
   "cell_type": "code",
   "execution_count": null,
   "id": "b23c248b-6004-4d22-a12c-4899e23cc44e",
   "metadata": {
    "ExecuteTime": {
     "end_time": "2024-10-04T12:04:32.708791Z",
     "start_time": "2024-10-04T12:04:32.700793Z"
    }
   },
   "outputs": [],
   "source": [
    "nongapfilled_names = fpc.get_nongapfilled_names()\n",
    "nongapfilled_names"
   ]
  },
  {
   "cell_type": "markdown",
   "id": "e693c544c3303631",
   "metadata": {},
   "source": [
    "## Plot: gap-filled heatmaps"
   ]
  },
  {
   "cell_type": "code",
   "execution_count": null,
   "id": "180df0fd38c3aa26",
   "metadata": {
    "ExecuteTime": {
     "end_time": "2024-10-04T12:04:37.255459Z",
     "start_time": "2024-10-04T12:04:35.585266Z"
    }
   },
   "outputs": [],
   "source": [
    "fpc.showplot_gapfilled_heatmap()"
   ]
  },
  {
   "cell_type": "markdown",
   "id": "daa2315d653cb622",
   "metadata": {},
   "source": [
    "## Plot: Gap-filled cumulatives per year"
   ]
  },
  {
   "cell_type": "code",
   "execution_count": null,
   "id": "6a114326dbecac1f",
   "metadata": {
    "ExecuteTime": {
     "end_time": "2024-10-04T12:04:47.089432Z",
     "start_time": "2024-10-04T12:04:45.427643Z"
    }
   },
   "outputs": [],
   "source": [
    "fpc.showplot_gapfilled_cumulative(gain=0.0002521206, units=r'($\\mathrm{kg\\ N_2O-N\\ ha^{-1}}$)', per_year=True)"
   ]
  },
  {
   "cell_type": "markdown",
   "id": "76cff831c6f41636",
   "metadata": {},
   "source": [
    "## Plot: gap-filled cumulative across all data "
   ]
  },
  {
   "cell_type": "code",
   "execution_count": null,
   "id": "4b70769386aaaf2a",
   "metadata": {
    "ExecuteTime": {
     "end_time": "2024-10-04T12:04:47.594507Z",
     "start_time": "2024-10-04T12:04:47.103433Z"
    }
   },
   "outputs": [],
   "source": [
    "fpc.showplot_gapfilled_cumulative(gain=0.0002521206, units=r'($\\mathrm{kg\\ N_2O-N\\ ha^{-1}}$)', per_year=False)"
   ]
  },
  {
   "cell_type": "markdown",
   "id": "efaaad75d26b1823",
   "metadata": {},
   "source": [
    "## Plot: model feature ranks per year"
   ]
  },
  {
   "cell_type": "code",
   "execution_count": null,
   "id": "40c5c21ae4632313",
   "metadata": {
    "ExecuteTime": {
     "end_time": "2024-10-04T12:05:06.370480Z",
     "start_time": "2024-10-04T12:05:03.817723Z"
    }
   },
   "outputs": [],
   "source": [
    "fpc.showplot_feature_ranks_per_year()"
   ]
  },
  {
   "cell_type": "markdown",
   "id": "453fbd630f78d4e3",
   "metadata": {},
   "source": [
    "</br>"
   ]
  },
  {
   "cell_type": "markdown",
   "id": "1c4ec3a6-d639-4c59-8d2f-1994c20c5efd",
   "metadata": {},
   "source": [
    "</br>"
   ]
  },
  {
   "cell_type": "markdown",
   "id": "bd73e6c3-4626-4323-9f7f-2c966a47d659",
   "metadata": {},
   "source": [
    "---"
   ]
  },
  {
   "cell_type": "markdown",
   "id": "e8b2fca3-dbba-4d4f-a3ad-00017ce5a4dc",
   "metadata": {},
   "source": [
    "# Save results to file"
   ]
  },
  {
   "cell_type": "markdown",
   "id": "9dbb70d8-560d-4122-8fac-5da3127b89e6",
   "metadata": {},
   "source": [
    "---"
   ]
  },
  {
   "cell_type": "markdown",
   "id": "21219eae-081d-4cd8-a587-8b2a9124deb3",
   "metadata": {},
   "source": [
    "- Save results to file for futher processing\n",
    "- This can be useful if you want to use the data in another software, e.g. continuing post-processing using the library `ReddyProc` in `R` \n",
    "- `Parquet` format is recommended for large datasets"
   ]
  },
  {
   "cell_type": "markdown",
   "id": "2f034dc6-d2c3-4c0c-99ef-b90e1bd3e85a",
   "metadata": {},
   "source": [
    "</br>"
   ]
  },
  {
   "cell_type": "code",
   "execution_count": null,
   "id": "54664074-6ac3-4549-ac8e-85d957ce64d5",
   "metadata": {},
   "outputs": [],
   "source": [
    "suffix = \"FN2O\""
   ]
  },
  {
   "cell_type": "markdown",
   "id": "4c036c1d-73ae-4747-aef8-0b980447123c",
   "metadata": {},
   "source": [
    "</br>"
   ]
  },
  {
   "cell_type": "markdown",
   "id": "9929f857-3346-4028-b80b-98fc2c78355e",
   "metadata": {},
   "source": [
    "## Option 1: Save complete data (input data and results)"
   ]
  },
  {
   "cell_type": "code",
   "execution_count": null,
   "id": "1b968777-2f77-4ca1-b975-b03f12ee32ca",
   "metadata": {},
   "outputs": [],
   "source": [
    "# outfile = f\"FluxProcessingChain_L4.1_complete_{suffix}\"\n",
    "# results.to_csv(f\"{outfile}.csv\")  # large file, slow to read\n",
    "# save_parquet(data=results, filename=f\"{outfile}\")  # Smaller file, very fast to read"
   ]
  },
  {
   "cell_type": "markdown",
   "id": "36ad223d-f75b-4000-a4e4-9011da959d90",
   "metadata": {},
   "source": [
    "</br>"
   ]
  },
  {
   "cell_type": "markdown",
   "id": "be8ff7f9-67db-4f41-991a-9fc8441b4cfb",
   "metadata": {},
   "source": [
    "## Option 2: Save flux processing chain results (without input data)\n",
    "- Needed if you want to continue post-processing in notebooks\n",
    "- Can also be used in `R` with the `arrow` package"
   ]
  },
  {
   "cell_type": "code",
   "execution_count": null,
   "id": "0f40bba0-62e3-4eee-84cf-122a52856880",
   "metadata": {
    "ExecuteTime": {
     "end_time": "2024-10-04T12:05:10.722182Z",
     "start_time": "2024-10-04T12:05:10.711180Z"
    },
    "tags": []
   },
   "outputs": [],
   "source": [
    "outfile = f\"51.1_FluxProcessingChain_L4.1_{suffix}_CUT_50\"\n",
    "fpc.fpc_df.to_csv(f\"{outfile}.csv\")  # large file, slow to read\n",
    "save_parquet(data=fpc.fpc_df, filename=f\"{outfile}\")  # Smaller file, very fast to read"
   ]
  },
  {
   "cell_type": "markdown",
   "id": "6a9f9793-49ea-4141-ab7d-26415a2e9bca",
   "metadata": {},
   "source": [
    "</br>"
   ]
  },
  {
   "cell_type": "markdown",
   "id": "97592ba9-0910-4882-969b-afb0701497e0",
   "metadata": {},
   "source": [
    "</br>"
   ]
  },
  {
   "cell_type": "markdown",
   "id": "6d3d9578-11ca-44d0-9fde-f0fd1b8c6584",
   "metadata": {},
   "source": [
    "---"
   ]
  },
  {
   "cell_type": "markdown",
   "id": "def56ee3-2a84-4a86-bd5b-525f0764b48d",
   "metadata": {},
   "source": [
    "# **End of notebook**"
   ]
  },
  {
   "cell_type": "markdown",
   "id": "7e406188-350e-49c7-b744-0521a8db559c",
   "metadata": {},
   "source": [
    "---"
   ]
  },
  {
   "cell_type": "markdown",
   "id": "6957af8a-7b79-41c6-b959-20755a5d9bd1",
   "metadata": {},
   "source": [
    "Congratulations, you reached the end of this notebook! Before you go let's store your finish time."
   ]
  },
  {
   "cell_type": "code",
   "execution_count": null,
   "id": "e6ea09b1-a8b1-420f-9df0-44e50d69c37c",
   "metadata": {
    "ExecuteTime": {
     "end_time": "2024-10-04T12:05:15.229626Z",
     "start_time": "2024-10-04T12:05:15.220627Z"
    },
    "tags": []
   },
   "outputs": [],
   "source": [
    "dt_string = datetime.now().strftime(\"%Y-%m-%d %H:%M:%S\")\n",
    "print(f\"Finished. {dt_string}\")"
   ]
  },
  {
   "cell_type": "code",
   "execution_count": null,
   "id": "1566ce70-085b-4b80-9eef-ab4a274c53a6",
   "metadata": {},
   "outputs": [],
   "source": []
  }
 ],
 "metadata": {
  "kernelspec": {
   "display_name": "Python 3 (ipykernel)",
   "language": "python",
   "name": "python3"
  },
  "language_info": {
   "codemirror_mode": {
    "name": "ipython",
    "version": 3
   },
   "file_extension": ".py",
   "mimetype": "text/x-python",
   "name": "python",
   "nbconvert_exporter": "python",
   "pygments_lexer": "ipython3",
   "version": "3.11.10"
  },
  "toc-autonumbering": true,
  "toc-showcode": false,
  "toc-showmarkdowntxt": false,
  "toc-showtags": true
 },
 "nbformat": 4,
 "nbformat_minor": 5
}
